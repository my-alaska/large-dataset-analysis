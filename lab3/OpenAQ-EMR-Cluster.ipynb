{
 "cells": [
  {
   "cell_type": "markdown",
   "metadata": {
    "application/vnd.databricks.v1+cell": {
     "cellMetadata": {
      "byteLimit": 2048000,
      "rowLimit": 10000
     },
     "inputWidgets": {},
     "nuid": "2b550f26-e8a0-4edd-972e-54b1f63649aa",
     "showTitle": false,
     "title": ""
    }
   },
   "source": [
    "## Spark cluster intro Air quality examples"
   ]
  },
  {
   "cell_type": "markdown",
   "metadata": {
    "application/vnd.databricks.v1+cell": {
     "cellMetadata": {
      "byteLimit": 2048000,
      "rowLimit": 10000
     },
     "inputWidgets": {},
     "nuid": "67514099-a0f6-4296-ba2a-b99ce344e37f",
     "showTitle": false,
     "title": ""
    }
   },
   "source": [
    "### Initialization\n",
    "Create and attach cluster created in EMR. \n",
    "\n",
    "The important configuration options:\n",
    " - Amazon EMR version: emr-7.1.0\n",
    " - Installed applications: JupyterHub 1.5.0\n",
    " - Logs in Amazon S3: disabled\n",
    " - Service role for Amazon EMR: EMR_DefaultRole \n",
    " - EC2 instance profile: EMR_EC2_DefaultRole\n",
    " - EC2 security groups (firewall): open ports 9443, 18080\n",
    " \n",
    "Login: jovyan, password: jupyter"
   ]
  },
  {
   "cell_type": "code",
   "execution_count": 1,
   "metadata": {
    "application/vnd.databricks.v1+cell": {
     "cellMetadata": {
      "byteLimit": 2048000,
      "rowLimit": 10000
     },
     "inputWidgets": {},
     "nuid": "67a37c1d-a889-4c0f-b741-a236203aab6a",
     "showTitle": false,
     "title": ""
    },
    "execution": {
     "iopub.execute_input": "2022-11-04T19:19:44.508099Z",
     "iopub.status.busy": "2022-11-04T19:19:44.507857Z",
     "iopub.status.idle": "2022-11-04T19:20:23.275027Z",
     "shell.execute_reply": "2022-11-04T19:20:23.273784Z",
     "shell.execute_reply.started": "2022-11-04T19:19:44.508074Z"
    },
    "tags": []
   },
   "outputs": [
    {
     "name": "stdout",
     "output_type": "stream",
     "text": [
      "Starting Spark application\n"
     ]
    },
    {
     "data": {
      "text/html": [
       "<table>\n",
       "<tr><th>ID</th><th>YARN Application ID</th><th>Kind</th><th>State</th><th>Spark UI</th><th>Driver log</th><th>User</th><th>Current session?</th></tr><tr><td>2</td><td>application_1730821505026_0003</td><td>pyspark</td><td>idle</td><td><a target=\"_blank\" href=\"http://ip-172-31-86-240.ec2.internal:20888/proxy/application_1730821505026_0003/\">Link</a></td><td><a target=\"_blank\" href=\"http://ip-172-31-80-106.ec2.internal:8042/node/containerlogs/container_1730821505026_0003_01_000001/livy\">Link</a></td><td>None</td><td>✔</td></tr></table>"
      ],
      "text/plain": [
       "<IPython.core.display.HTML object>"
      ]
     },
     "metadata": {},
     "output_type": "display_data"
    },
    {
     "data": {
      "application/vnd.jupyter.widget-view+json": {
       "model_id": "",
       "version_major": 2,
       "version_minor": 0
      },
      "text/plain": [
       "FloatProgress(value=0.0, bar_style='info', description='Progress:', layout=Layout(height='25px', width='50%'),…"
      ]
     },
     "metadata": {},
     "output_type": "display_data"
    },
    {
     "name": "stdout",
     "output_type": "stream",
     "text": [
      "SparkSession available as 'spark'.\n"
     ]
    },
    {
     "data": {
      "application/vnd.jupyter.widget-view+json": {
       "model_id": "",
       "version_major": 2,
       "version_minor": 0
      },
      "text/plain": [
       "FloatProgress(value=0.0, bar_style='info', description='Progress:', layout=Layout(height='25px', width='50%'),…"
      ]
     },
     "metadata": {},
     "output_type": "display_data"
    }
   ],
   "source": [
    "from pyspark.sql import SparkSession\n",
    "from pyspark.conf import SparkConf\n",
    "spark = SparkSession.builder.getOrCreate()"
   ]
  },
  {
   "cell_type": "code",
   "execution_count": 2,
   "metadata": {
    "scrolled": true
   },
   "outputs": [
    {
     "name": "stdout",
     "output_type": "stream",
     "text": [
      "Starting Spark application\n"
     ]
    },
    {
     "data": {
      "text/html": [
       "<table>\n",
       "<tr><th>ID</th><th>YARN Application ID</th><th>Kind</th><th>State</th><th>Spark UI</th><th>Driver log</th><th>User</th><th>Current session?</th></tr><tr><td>3</td><td>application_1730821505026_0004</td><td>pyspark</td><td>idle</td><td><a target=\"_blank\" href=\"http://ip-172-31-86-240.ec2.internal:20888/proxy/application_1730821505026_0004/\">Link</a></td><td><a target=\"_blank\" href=\"http://ip-172-31-85-114.ec2.internal:8042/node/containerlogs/container_1730821505026_0004_01_000001/livy\">Link</a></td><td>None</td><td>✔</td></tr></table>"
      ],
      "text/plain": [
       "<IPython.core.display.HTML object>"
      ]
     },
     "metadata": {},
     "output_type": "display_data"
    },
    {
     "data": {
      "application/vnd.jupyter.widget-view+json": {
       "model_id": "",
       "version_major": 2,
       "version_minor": 0
      },
      "text/plain": [
       "FloatProgress(value=0.0, bar_style='info', description='Progress:', layout=Layout(height='25px', width='50%'),…"
      ]
     },
     "metadata": {},
     "output_type": "display_data"
    },
    {
     "name": "stdout",
     "output_type": "stream",
     "text": [
      "SparkSession available as 'spark'.\n"
     ]
    },
    {
     "data": {
      "text/html": [
       "Current session configs: <tt>{'conf': {'spark.pyspark.python': 'python3', 'spark.pyspark.virtualenv.enabled': 'true', 'spark.pyspark.virtualenv.type': 'native', 'spark.pyspark.virtualenv.bin.path': '/usr/bin/virtualenv'}, 'proxyUser': 'jovyan', 'kind': 'pyspark'}</tt><br>"
      ],
      "text/plain": [
       "<IPython.core.display.HTML object>"
      ]
     },
     "metadata": {},
     "output_type": "display_data"
    },
    {
     "data": {
      "text/html": [
       "<table>\n",
       "<tr><th>ID</th><th>YARN Application ID</th><th>Kind</th><th>State</th><th>Spark UI</th><th>Driver log</th><th>User</th><th>Current session?</th></tr><tr><td>3</td><td>application_1730821505026_0004</td><td>pyspark</td><td>idle</td><td><a target=\"_blank\" href=\"http://ip-172-31-86-240.ec2.internal:20888/proxy/application_1730821505026_0004/\">Link</a></td><td><a target=\"_blank\" href=\"http://ip-172-31-85-114.ec2.internal:8042/node/containerlogs/container_1730821505026_0004_01_000001/livy\">Link</a></td><td>None</td><td>✔</td></tr></table>"
      ],
      "text/plain": [
       "<IPython.core.display.HTML object>"
      ]
     },
     "metadata": {},
     "output_type": "display_data"
    }
   ],
   "source": [
    "%%configure -f\n",
    "{\n",
    "    \"conf\": {\n",
    "        \"spark.pyspark.python\": \"python3\",\n",
    "        \"spark.pyspark.virtualenv.enabled\": \"true\",\n",
    "        \"spark.pyspark.virtualenv.type\":\"native\",\n",
    "        \"spark.pyspark.virtualenv.bin.path\":\"/usr/bin/virtualenv\"\n",
    "    }\n",
    "}"
   ]
  },
  {
   "cell_type": "code",
   "execution_count": 3,
   "metadata": {},
   "outputs": [
    {
     "data": {
      "application/vnd.jupyter.widget-view+json": {
       "model_id": "",
       "version_major": 2,
       "version_minor": 0
      },
      "text/plain": [
       "FloatProgress(value=0.0, bar_style='info', description='Progress:', layout=Layout(height='25px', width='50%'),…"
      ]
     },
     "metadata": {},
     "output_type": "display_data"
    },
    {
     "name": "stdout",
     "output_type": "stream",
     "text": [
      "Collecting pandas\n",
      "  Downloading pandas-2.2.3-cp39-cp39-manylinux_2_17_x86_64.manylinux2014_x86_64.whl (13.1 MB)\n",
      "Collecting tzdata>=2022.7\n",
      "  Downloading tzdata-2024.2-py2.py3-none-any.whl (346 kB)\n",
      "Requirement already satisfied: pytz>=2020.1 in /usr/local/lib/python3.9/site-packages (from pandas) (2024.1)\n",
      "Collecting numpy>=1.22.4\n",
      "  Downloading numpy-2.0.2-cp39-cp39-manylinux_2_17_x86_64.manylinux2014_x86_64.whl (19.5 MB)\n",
      "Collecting python-dateutil>=2.8.2\n",
      "  Downloading python_dateutil-2.9.0.post0-py2.py3-none-any.whl (229 kB)\n",
      "Requirement already satisfied: six>=1.5 in /usr/local/lib/python3.9/site-packages (from python-dateutil>=2.8.2->pandas) (1.13.0)\n",
      "Installing collected packages: tzdata, python-dateutil, numpy, pandas\n",
      "  Attempting uninstall: python-dateutil\n",
      "    Found existing installation: python-dateutil 2.8.1\n",
      "    Not uninstalling python-dateutil at /usr/lib/python3.9/site-packages, outside environment /mnt/yarn/usercache/livy/appcache/application_1730821505026_0004/container_1730821505026_0004_01_000001/tmp/spark-d7cf1d2c-282b-44ce-b3cd-9fdf335250d0\n",
      "    Can't uninstall 'python-dateutil'. No files were found to uninstall.\n",
      "Successfully installed numpy-2.0.2 pandas-2.2.3 python-dateutil-2.9.0.post0 tzdata-2024.2\n",
      "\n",
      "Collecting matplotlib\n",
      "  Downloading matplotlib-3.9.2-cp39-cp39-manylinux_2_17_x86_64.manylinux2014_x86_64.whl (8.3 MB)\n",
      "Collecting importlib-resources>=3.2.0\n",
      "  Downloading importlib_resources-6.4.5-py3-none-any.whl (36 kB)\n",
      "Requirement already satisfied: python-dateutil>=2.7 in ./tmp/spark-d7cf1d2c-282b-44ce-b3cd-9fdf335250d0/lib/python3.9/site-packages (from matplotlib) (2.9.0.post0)\n",
      "Collecting contourpy>=1.0.1\n",
      "  Downloading contourpy-1.3.0-cp39-cp39-manylinux_2_17_x86_64.manylinux2014_x86_64.whl (321 kB)\n",
      "Collecting pillow>=8\n",
      "  Downloading pillow-11.0.0-cp39-cp39-manylinux_2_28_x86_64.whl (4.4 MB)\n",
      "Collecting fonttools>=4.22.0\n",
      "  Downloading fonttools-4.54.1-cp39-cp39-manylinux_2_17_x86_64.manylinux2014_x86_64.whl (4.6 MB)\n",
      "Collecting packaging>=20.0\n",
      "  Downloading packaging-24.1-py3-none-any.whl (53 kB)\n",
      "Collecting kiwisolver>=1.3.1\n",
      "  Downloading kiwisolver-1.4.7-cp39-cp39-manylinux_2_12_x86_64.manylinux2010_x86_64.whl (1.6 MB)\n",
      "Collecting pyparsing>=2.3.1\n",
      "  Downloading pyparsing-3.2.0-py3-none-any.whl (106 kB)\n",
      "Collecting cycler>=0.10\n",
      "  Downloading cycler-0.12.1-py3-none-any.whl (8.3 kB)\n",
      "Requirement already satisfied: numpy>=1.23 in ./tmp/spark-d7cf1d2c-282b-44ce-b3cd-9fdf335250d0/lib64/python3.9/site-packages (from matplotlib) (2.0.2)\n",
      "Collecting zipp>=3.1.0\n",
      "  Downloading zipp-3.20.2-py3-none-any.whl (9.2 kB)\n",
      "Requirement already satisfied: six>=1.5 in /usr/local/lib/python3.9/site-packages (from python-dateutil>=2.7->matplotlib) (1.13.0)\n",
      "Installing collected packages: zipp, pyparsing, pillow, packaging, kiwisolver, importlib-resources, fonttools, cycler, contourpy, matplotlib\n",
      "Successfully installed contourpy-1.3.0 cycler-0.12.1 fonttools-4.54.1 importlib-resources-6.4.5 kiwisolver-1.4.7 matplotlib-3.9.2 packaging-24.1 pillow-11.0.0 pyparsing-3.2.0 zipp-3.20.2\n",
      "\n",
      "WARNING: The directory '/home/.cache/pip' or its parent directory is not owned or is not writable by the current user. The cache has been disabled. Check the permissions and owner of that directory. If executing pip with sudo, you should use sudo's -H flag.\n",
      "ERROR: pip's dependency resolver does not currently take into account all the packages that are installed. This behaviour is the source of the following dependency conflicts.\n",
      "awscli 2.15.30 requires python-dateutil<=2.8.2,>=2.1, but you have python-dateutil 2.9.0.post0 which is incompatible.\n",
      "\n",
      "WARNING: The directory '/home/.cache/pip' or its parent directory is not owned or is not writable by the current user. The cache has been disabled. Check the permissions and owner of that directory. If executing pip with sudo, you should use sudo's -H flag."
     ]
    }
   ],
   "source": [
    "# run once per session to install additional packages\n",
    "sc.install_pypi_package(\"pandas\")\n",
    "sc.install_pypi_package(\"matplotlib\")"
   ]
  },
  {
   "cell_type": "code",
   "execution_count": 53,
   "metadata": {
    "application/vnd.databricks.v1+cell": {
     "cellMetadata": {
      "byteLimit": 2048000,
      "rowLimit": 10000
     },
     "inputWidgets": {},
     "nuid": "a88b1d0d-29ee-435a-88ab-5d2cdfbe501a",
     "showTitle": false,
     "title": ""
    }
   },
   "outputs": [
    {
     "data": {
      "application/vnd.jupyter.widget-view+json": {
       "model_id": "",
       "version_major": 2,
       "version_minor": 0
      },
      "text/plain": [
       "FloatProgress(value=0.0, bar_style='info', description='Progress:', layout=Layout(height='25px', width='50%'),…"
      ]
     },
     "metadata": {},
     "output_type": "display_data"
    }
   ],
   "source": [
    "from pyspark.sql.functions import col, mean\n",
    "import matplotlib.pyplot as plt\n",
    "import pandas as pd\n",
    "import time"
   ]
  },
  {
   "cell_type": "markdown",
   "metadata": {
    "application/vnd.databricks.v1+cell": {
     "cellMetadata": {
      "byteLimit": 2048000,
      "rowLimit": 10000
     },
     "inputWidgets": {},
     "nuid": "e9b09d89-b7d0-4cdb-b300-404f5b54a87b",
     "showTitle": false,
     "title": ""
    }
   },
   "source": [
    "### Reading data from AWS S3\n",
    "\n",
    "Now we can read a small sample of data:"
   ]
  },
  {
   "cell_type": "code",
   "execution_count": 5,
   "metadata": {},
   "outputs": [
    {
     "data": {
      "application/vnd.jupyter.widget-view+json": {
       "model_id": "",
       "version_major": 2,
       "version_minor": 0
      },
      "text/plain": [
       "FloatProgress(value=0.0, bar_style='info', description='Progress:', layout=Layout(height='25px', width='50%'),…"
      ]
     },
     "metadata": {},
     "output_type": "display_data"
    },
    {
     "name": "stdout",
     "output_type": "stream",
     "text": [
      "102.24468278884888"
     ]
    }
   ],
   "source": [
    "start = time.time()\n",
    "\n",
    "smog_df = spark \\\n",
    "    .read \\\n",
    "    .format(\"csv\") \\\n",
    "    .option(\"compression\", \"gzip\") \\\n",
    "    .option(\"header\", True) \\\n",
    "    .load(\"s3a://openaq-data-archive/records/csv.gz/locationid=10*/year=2022/month=05/*.csv.gz\")\n",
    "    #.load(\"s3a://openaq-data-archive/records/csv.gz/locationid=2178/year=2022/month=05/location-2178-20220503.csv.gz\")\\\n",
    "\n",
    "end = time.time()\n",
    "print(end - start)"
   ]
  },
  {
   "cell_type": "code",
   "execution_count": 6,
   "metadata": {},
   "outputs": [
    {
     "data": {
      "application/vnd.jupyter.widget-view+json": {
       "model_id": "",
       "version_major": 2,
       "version_minor": 0
      },
      "text/plain": [
       "FloatProgress(value=0.0, bar_style='info', description='Progress:', layout=Layout(height='25px', width='50%'),…"
      ]
     },
     "metadata": {},
     "output_type": "display_data"
    },
    {
     "name": "stdout",
     "output_type": "stream",
     "text": [
      "DataFrame[location_id: string, sensors_id: string, location: string, datetime: string, lat: string, lon: string, parameter: string, units: string, value: string]"
     ]
    }
   ],
   "source": [
    "# Further queries on smog_df will run much faster when we cache this data set in memory\n",
    "smog_df.cache()"
   ]
  },
  {
   "cell_type": "code",
   "execution_count": 7,
   "metadata": {},
   "outputs": [
    {
     "data": {
      "application/vnd.jupyter.widget-view+json": {
       "model_id": "",
       "version_major": 2,
       "version_minor": 0
      },
      "text/plain": [
       "FloatProgress(value=0.0, bar_style='info', description='Progress:', layout=Layout(height='25px', width='50%'),…"
      ]
     },
     "metadata": {},
     "output_type": "display_data"
    },
    {
     "name": "stdout",
     "output_type": "stream",
     "text": [
      "21.08136796951294"
     ]
    }
   ],
   "source": [
    "start = time.time()\n",
    "smog_df.count()\n",
    "end = time.time()\n",
    "print(end - start)"
   ]
  },
  {
   "cell_type": "code",
   "execution_count": 8,
   "metadata": {
    "application/vnd.databricks.v1+cell": {
     "cellMetadata": {
      "byteLimit": 2048000,
      "rowLimit": 10000
     },
     "inputWidgets": {},
     "nuid": "dbfac42d-d81f-499d-8459-069bcbbd009a",
     "showTitle": false,
     "title": ""
    }
   },
   "outputs": [
    {
     "data": {
      "application/vnd.jupyter.widget-view+json": {
       "model_id": "",
       "version_major": 2,
       "version_minor": 0
      },
      "text/plain": [
       "FloatProgress(value=0.0, bar_style='info', description='Progress:', layout=Layout(height='25px', width='50%'),…"
      ]
     },
     "metadata": {},
     "output_type": "display_data"
    },
    {
     "name": "stdout",
     "output_type": "stream",
     "text": [
      "root\n",
      " |-- location_id: string (nullable = true)\n",
      " |-- sensors_id: string (nullable = true)\n",
      " |-- location: string (nullable = true)\n",
      " |-- datetime: string (nullable = true)\n",
      " |-- lat: string (nullable = true)\n",
      " |-- lon: string (nullable = true)\n",
      " |-- parameter: string (nullable = true)\n",
      " |-- units: string (nullable = true)\n",
      " |-- value: string (nullable = true)"
     ]
    }
   ],
   "source": [
    "smog_df.printSchema()"
   ]
  },
  {
   "cell_type": "code",
   "execution_count": 9,
   "metadata": {},
   "outputs": [
    {
     "data": {
      "application/vnd.jupyter.widget-view+json": {
       "model_id": "",
       "version_major": 2,
       "version_minor": 0
      },
      "text/plain": [
       "FloatProgress(value=0.0, bar_style='info', description='Progress:', layout=Layout(height='25px', width='50%'),…"
      ]
     },
     "metadata": {},
     "output_type": "display_data"
    }
   ],
   "source": [
    "smog_df = smog_df.withColumn(\"value\", smog_df.value.cast('double'))"
   ]
  },
  {
   "cell_type": "markdown",
   "metadata": {
    "application/vnd.databricks.v1+cell": {
     "cellMetadata": {
      "byteLimit": 2048000,
      "rowLimit": 10000
     },
     "inputWidgets": {},
     "nuid": "9836853f-5ef1-4679-af42-b45e097d7f7e",
     "showTitle": false,
     "title": ""
    }
   },
   "source": [
    "### Simple queries"
   ]
  },
  {
   "cell_type": "code",
   "execution_count": 10,
   "metadata": {},
   "outputs": [
    {
     "data": {
      "application/vnd.jupyter.widget-view+json": {
       "model_id": "",
       "version_major": 2,
       "version_minor": 0
      },
      "text/plain": [
       "FloatProgress(value=0.0, bar_style='info', description='Progress:', layout=Layout(height='25px', width='50%'),…"
      ]
     },
     "metadata": {},
     "output_type": "display_data"
    },
    {
     "name": "stdout",
     "output_type": "stream",
     "text": [
      "+-----------+----------+--------------------+--------------------+---------+---------+---------+-----+-------+\n",
      "|location_id|sensors_id|            location|            datetime|      lat|      lon|parameter|units|  value|\n",
      "+-----------+----------+--------------------+--------------------+---------+---------+---------+-----+-------+\n",
      "|      10618|     35276|Kędzierzyn-Koźle,...|2022-05-17T01:00:...|50.349608|18.236575|     pm10|µg/m³|  15.62|\n",
      "|      10618|     35276|Kędzierzyn-Koźle,...|2022-05-17T02:00:...|50.349608|18.236575|     pm10|µg/m³|13.6041|\n",
      "|      10618|     35276|Kędzierzyn-Koźle,...|2022-05-17T03:00:...|50.349608|18.236575|     pm10|µg/m³|13.7349|\n",
      "|      10618|     35276|Kędzierzyn-Koźle,...|2022-05-17T04:00:...|50.349608|18.236575|     pm10|µg/m³|15.1872|\n",
      "|      10618|     35276|Kędzierzyn-Koźle,...|2022-05-17T05:00:...|50.349608|18.236575|     pm10|µg/m³|13.0822|\n",
      "|      10618|     35276|Kędzierzyn-Koźle,...|2022-05-17T06:00:...|50.349608|18.236575|     pm10|µg/m³|14.0526|\n",
      "|      10618|     35276|Kędzierzyn-Koźle,...|2022-05-17T07:00:...|50.349608|18.236575|     pm10|µg/m³|19.2821|\n",
      "|      10618|     35276|Kędzierzyn-Koźle,...|2022-05-17T08:00:...|50.349608|18.236575|     pm10|µg/m³|18.9368|\n",
      "|      10618|     35276|Kędzierzyn-Koźle,...|2022-05-17T09:00:...|50.349608|18.236575|     pm10|µg/m³|15.2887|\n",
      "|      10618|     35276|Kędzierzyn-Koźle,...|2022-05-17T10:00:...|50.349608|18.236575|     pm10|µg/m³|44.2069|\n",
      "+-----------+----------+--------------------+--------------------+---------+---------+---------+-----+-------+"
     ]
    }
   ],
   "source": [
    "smog_df.limit(10).show()"
   ]
  },
  {
   "cell_type": "code",
   "execution_count": 39,
   "metadata": {},
   "outputs": [
    {
     "data": {
      "application/vnd.jupyter.widget-view+json": {
       "model_id": "",
       "version_major": 2,
       "version_minor": 0
      },
      "text/plain": [
       "FloatProgress(value=0.0, bar_style='info', description='Progress:', layout=Layout(height='25px', width='50%'),…"
      ]
     },
     "metadata": {},
     "output_type": "display_data"
    },
    {
     "name": "stdout",
     "output_type": "stream",
     "text": [
      "Row(max(datetime)='2022-06-01T00:00:00-08:00')"
     ]
    }
   ],
   "source": [
    "smog_df.select(max(\"datetime\")).first()"
   ]
  },
  {
   "cell_type": "code",
   "execution_count": 12,
   "metadata": {
    "application/vnd.databricks.v1+cell": {
     "cellMetadata": {
      "byteLimit": 2048000,
      "rowLimit": 10000
     },
     "inputWidgets": {},
     "nuid": "31f7b75e-bae5-48de-ae4c-ddd2ec3b52ea",
     "showTitle": false,
     "title": ""
    },
    "execution": {
     "iopub.execute_input": "2022-11-04T19:22:01.456926Z",
     "iopub.status.busy": "2022-11-04T19:22:01.456751Z",
     "iopub.status.idle": "2022-11-04T19:22:24.804450Z",
     "shell.execute_reply": "2022-11-04T19:22:24.803684Z",
     "shell.execute_reply.started": "2022-11-04T19:22:01.456903Z"
    }
   },
   "outputs": [
    {
     "data": {
      "application/vnd.jupyter.widget-view+json": {
       "model_id": "",
       "version_major": 2,
       "version_minor": 0
      },
      "text/plain": [
       "FloatProgress(value=0.0, bar_style='info', description='Progress:', layout=Layout(height='25px', width='50%'),…"
      ]
     },
     "metadata": {},
     "output_type": "display_data"
    },
    {
     "name": "stdout",
     "output_type": "stream",
     "text": [
      "+---------+\n",
      "|parameter|\n",
      "+---------+\n",
      "|       co|\n",
      "|     pm10|\n",
      "|      so2|\n",
      "|      no2|\n",
      "|       bc|\n",
      "|     pm25|\n",
      "|       o3|\n",
      "+---------+"
     ]
    }
   ],
   "source": [
    "smog_df.select('parameter').distinct().show()"
   ]
  },
  {
   "cell_type": "code",
   "execution_count": 13,
   "metadata": {
    "application/vnd.databricks.v1+cell": {
     "cellMetadata": {
      "byteLimit": 2048000,
      "rowLimit": 10000
     },
     "inputWidgets": {},
     "nuid": "9fc776b3-7dde-411a-836c-09b0be698814",
     "showTitle": false,
     "title": ""
    },
    "execution": {
     "iopub.execute_input": "2022-11-04T19:23:09.501204Z",
     "iopub.status.busy": "2022-11-04T19:23:09.501004Z",
     "iopub.status.idle": "2022-11-04T19:23:09.569815Z",
     "shell.execute_reply": "2022-11-04T19:23:09.568857Z",
     "shell.execute_reply.started": "2022-11-04T19:23:09.501180Z"
    }
   },
   "outputs": [
    {
     "data": {
      "application/vnd.jupyter.widget-view+json": {
       "model_id": "",
       "version_major": 2,
       "version_minor": 0
      },
      "text/plain": [
       "FloatProgress(value=0.0, bar_style='info', description='Progress:', layout=Layout(height='25px', width='50%'),…"
      ]
     },
     "metadata": {},
     "output_type": "display_data"
    }
   ],
   "source": [
    "from pyspark.sql.functions import col, asc, desc, max"
   ]
  },
  {
   "cell_type": "markdown",
   "metadata": {
    "application/vnd.databricks.v1+cell": {
     "cellMetadata": {
      "byteLimit": 2048000,
      "rowLimit": 10000
     },
     "inputWidgets": {},
     "nuid": "d660c8cd-06b6-495c-be40-63df2b4cd40f",
     "showTitle": false,
     "title": ""
    }
   },
   "source": [
    "### Some more interesting statistics"
   ]
  },
  {
   "cell_type": "code",
   "execution_count": 14,
   "metadata": {
    "application/vnd.databricks.v1+cell": {
     "cellMetadata": {
      "byteLimit": 2048000,
      "rowLimit": 10000
     },
     "inputWidgets": {},
     "nuid": "2d66c7bb-941a-4189-8c22-d4b5d286628d",
     "showTitle": false,
     "title": ""
    },
    "execution": {
     "iopub.execute_input": "2022-11-04T19:23:31.245899Z",
     "iopub.status.busy": "2022-11-04T19:23:31.245647Z",
     "iopub.status.idle": "2022-11-04T19:23:31.505221Z",
     "shell.execute_reply": "2022-11-04T19:23:31.504509Z",
     "shell.execute_reply.started": "2022-11-04T19:23:31.245864Z"
    }
   },
   "outputs": [
    {
     "data": {
      "application/vnd.jupyter.widget-view+json": {
       "model_id": "",
       "version_major": 2,
       "version_minor": 0
      },
      "text/plain": [
       "FloatProgress(value=0.0, bar_style='info', description='Progress:', layout=Layout(height='25px', width='50%'),…"
      ]
     },
     "metadata": {},
     "output_type": "display_data"
    },
    {
     "name": "stdout",
     "output_type": "stream",
     "text": [
      "+------------------------------------------------+-----------+\n",
      "|location                                        |max_pm10   |\n",
      "+------------------------------------------------+-----------+\n",
      "|Ballygunge, Kolkata - WBPCB-10918               |9999.9     |\n",
      "|Govt. High School Shikarpur, Patna - BSPCB-10630|5631.1     |\n",
      "|Sanjay Nagar, Ghaziabad - UPPCB-10919           |3490.0     |\n",
      "|New Industrial Town, Faridabad - HSPCB-10920    |2217.0     |\n",
      "|Mundka, Delhi - DPCC-10486                      |1787.0     |\n",
      "|Sector 30, Faridabad - HSPCB-10820              |1309.16    |\n",
      "|Nedre Langgate-10492                            |1187.386375|\n",
      "|Mini Secretariat, Charkhi Dadri - HSPCB-10725   |1186.4     |\n",
      "|Sector 11, Faridabad - HSPCB-10908              |1090.9     |\n",
      "|Rajbansi Nagar, Patna - BSPCB-10599             |1003.2     |\n",
      "|Sector-51, Gurugram - HSPCB-10825               |999.99     |\n",
      "|Murthal, Sonipat - HSPCB-10906                  |999.99     |\n",
      "|Rishi Nagar, Kaithal - HSPCB-10905              |999.99     |\n",
      "|Sector-25, Chandigarh - CPCC-10914              |982.82     |\n",
      "|Najafgarh, Delhi - DPCC-10488                   |941.0      |\n",
      "|Minnesundvegen, Gjøvik-10721                    |937.816941 |\n",
      "|Teri Gram, Gurugram - HSPCB-10900               |931.0      |\n",
      "|Industrial Area, Hajipur - BSPCB-10645          |860.4      |\n",
      "|Sri Aurobindo Marg, Delhi - DPCC-10484          |856.0      |\n",
      "|Muradpur, Patna - BSPCB-10670                   |844.7      |\n",
      "+------------------------------------------------+-----------+\n",
      "only showing top 20 rows\n",
      "\n",
      "1.6245362758636475"
     ]
    }
   ],
   "source": [
    "start = time.time()\n",
    "max_pm10 = smog_df.filter(col('parameter')=='pm10')\\\n",
    "            .filter(col('value')>0.0)\\\n",
    "            .groupby('location').agg(max('value').alias('max_pm10'))\\\n",
    "            .sort(desc('max_pm10'))\n",
    "\n",
    "max_pm10.limit(100).show(truncate=False)\n",
    "end = time.time()\n",
    "print(end - start)"
   ]
  },
  {
   "cell_type": "code",
   "execution_count": 15,
   "metadata": {
    "application/vnd.databricks.v1+cell": {
     "cellMetadata": {
      "byteLimit": 2048000,
      "rowLimit": 10000
     },
     "inputWidgets": {},
     "nuid": "2c6ff99d-7785-496c-8ca9-c601b58348d7",
     "showTitle": false,
     "title": ""
    },
    "execution": {
     "iopub.execute_input": "2022-11-04T19:23:56.854730Z",
     "iopub.status.busy": "2022-11-04T19:23:56.854478Z",
     "iopub.status.idle": "2022-11-04T19:23:56.910195Z",
     "shell.execute_reply": "2022-11-04T19:23:56.909522Z",
     "shell.execute_reply.started": "2022-11-04T19:23:56.854696Z"
    }
   },
   "outputs": [
    {
     "data": {
      "application/vnd.jupyter.widget-view+json": {
       "model_id": "",
       "version_major": 2,
       "version_minor": 0
      },
      "text/plain": [
       "FloatProgress(value=0.0, bar_style='info', description='Progress:', layout=Layout(height='25px', width='50%'),…"
      ]
     },
     "metadata": {},
     "output_type": "display_data"
    },
    {
     "name": "stdout",
     "output_type": "stream",
     "text": [
      "+--------------------------------+\n",
      "|location                        |\n",
      "+--------------------------------+\n",
      "|Kraków, ul. Bulwarowa-10516     |\n",
      "|Kraków, Aleja Krasińskiego-10752|\n",
      "+--------------------------------+"
     ]
    }
   ],
   "source": [
    "smog_df.filter(col('location').contains('Krak')).select('location').distinct().show(truncate=False)"
   ]
  },
  {
   "cell_type": "code",
   "execution_count": 16,
   "metadata": {},
   "outputs": [
    {
     "data": {
      "application/vnd.jupyter.widget-view+json": {
       "model_id": "",
       "version_major": 2,
       "version_minor": 0
      },
      "text/plain": [
       "FloatProgress(value=0.0, bar_style='info', description='Progress:', layout=Layout(height='25px', width='50%'),…"
      ]
     },
     "metadata": {},
     "output_type": "display_data"
    },
    {
     "name": "stdout",
     "output_type": "stream",
     "text": [
      "root\n",
      " |-- location: string (nullable = true)\n",
      " |-- max_pm10: double (nullable = true)"
     ]
    }
   ],
   "source": [
    "max_pm10.printSchema()"
   ]
  },
  {
   "cell_type": "code",
   "execution_count": 55,
   "metadata": {
    "application/vnd.databricks.v1+cell": {
     "cellMetadata": {
      "byteLimit": 2048000,
      "rowLimit": 10000
     },
     "inputWidgets": {},
     "nuid": "27ace623-a54c-4cf1-955d-3049076fe6a5",
     "showTitle": false,
     "title": ""
    },
    "execution": {
     "iopub.execute_input": "2022-11-04T19:23:58.183292Z",
     "iopub.status.busy": "2022-11-04T19:23:58.183119Z",
     "iopub.status.idle": "2022-11-04T19:23:58.442767Z",
     "shell.execute_reply": "2022-11-04T19:23:58.441832Z",
     "shell.execute_reply.started": "2022-11-04T19:23:58.183271Z"
    }
   },
   "outputs": [
    {
     "data": {
      "application/vnd.jupyter.widget-view+json": {
       "model_id": "",
       "version_major": 2,
       "version_minor": 0
      },
      "text/plain": [
       "FloatProgress(value=0.0, bar_style='info', description='Progress:', layout=Layout(height='25px', width='50%'),…"
      ]
     },
     "metadata": {},
     "output_type": "display_data"
    },
    {
     "name": "stdout",
     "output_type": "stream",
     "text": [
      "<Axes: ylabel='location'>"
     ]
    }
   ],
   "source": [
    "plt.figure()\n",
    "max_pm10.limit(10).toPandas().plot.barh(x='location')"
   ]
  },
  {
   "cell_type": "code",
   "execution_count": 56,
   "metadata": {},
   "outputs": [
    {
     "data": {
      "application/vnd.jupyter.widget-view+json": {
       "model_id": "",
       "version_major": 2,
       "version_minor": 0
      },
      "text/plain": [
       "FloatProgress(value=0.0, bar_style='info', description='Progress:', layout=Layout(height='25px', width='50%'),…"
      ]
     },
     "metadata": {},
     "output_type": "display_data"
    },
    {
     "data": {
      "image/png": "[encoded data removed]",
      "text/plain": [
       "<IPython.core.display.Image object>"
      ]
     },
     "metadata": {},
     "output_type": "display_data"
    }
   ],
   "source": [
    "# On EMR we need this magic to show the plot\n",
    "%matplot plt"
   ]
  },
  {
   "cell_type": "markdown",
   "metadata": {},
   "source": [
    "# Task 1"
   ]
  },
  {
   "cell_type": "markdown",
   "metadata": {},
   "source": [
    "Find places in which average pm25 was lower that maximal pm25 at some fixed location"
   ]
  },
  {
   "cell_type": "code",
   "execution_count": 19,
   "metadata": {},
   "outputs": [
    {
     "data": {
      "application/vnd.jupyter.widget-view+json": {
       "model_id": "",
       "version_major": 2,
       "version_minor": 0
      },
      "text/plain": [
       "FloatProgress(value=0.0, bar_style='info', description='Progress:', layout=Layout(height='25px', width='50%'),…"
      ]
     },
     "metadata": {},
     "output_type": "display_data"
    }
   ],
   "source": [
    "from pyspark.sql.functions import lit\n",
    "\n",
    "# narrow down the days\n",
    "limited_day_df = (smog_df.select(\"location\",\"value\")\n",
    "                  .where(\n",
    "                        (col(\"datetime\") >= lit(\"2022-05-17T00:00:000Z\")) & \n",
    "                        (col(\"datetime\") <  lit(\"2022-05-27T00:00:000Z\")))\n",
    "                  .where((col(\"parameter\") == \"pm25\"))\n",
    "                 )"
   ]
  },
  {
   "cell_type": "code",
   "execution_count": 20,
   "metadata": {},
   "outputs": [
    {
     "data": {
      "application/vnd.jupyter.widget-view+json": {
       "model_id": "",
       "version_major": 2,
       "version_minor": 0
      },
      "text/plain": [
       "FloatProgress(value=0.0, bar_style='info', description='Progress:', layout=Layout(height='25px', width='50%'),…"
      ]
     },
     "metadata": {},
     "output_type": "display_data"
    },
    {
     "name": "stdout",
     "output_type": "stream",
     "text": [
      "'Kędzierzyn-Koźle, ul. Śmiałego-10618'"
     ]
    }
   ],
   "source": [
    "# select a unique location\n",
    "loc = limited_day_df.select('location').first()[0]\n",
    "loc"
   ]
  },
  {
   "cell_type": "code",
   "execution_count": 21,
   "metadata": {},
   "outputs": [
    {
     "data": {
      "application/vnd.jupyter.widget-view+json": {
       "model_id": "",
       "version_major": 2,
       "version_minor": 0
      },
      "text/plain": [
       "FloatProgress(value=0.0, bar_style='info', description='Progress:', layout=Layout(height='25px', width='50%'),…"
      ]
     },
     "metadata": {},
     "output_type": "display_data"
    },
    {
     "name": "stdout",
     "output_type": "stream",
     "text": [
      "29.205"
     ]
    }
   ],
   "source": [
    "from pyspark.sql.functions import trim\n",
    "\n",
    "# get the maximal value for the fixed location\n",
    "fixed_max = (\n",
    "    limited_day_df\n",
    "    .where((col(\"location\") == loc))\n",
    "    .select(max(col(\"value\")))\n",
    "    .first()[0]\n",
    ")\n",
    "\n",
    "fixed_max"
   ]
  },
  {
   "cell_type": "code",
   "execution_count": 22,
   "metadata": {},
   "outputs": [
    {
     "data": {
      "application/vnd.jupyter.widget-view+json": {
       "model_id": "",
       "version_major": 2,
       "version_minor": 0
      },
      "text/plain": [
       "FloatProgress(value=0.0, bar_style='info', description='Progress:', layout=Layout(height='25px', width='50%'),…"
      ]
     },
     "metadata": {},
     "output_type": "display_data"
    },
    {
     "name": "stdout",
     "output_type": "stream",
     "text": [
      "+--------------------+------------------+\n",
      "|            location|         avg_value|\n",
      "+--------------------+------------------+\n",
      "|Vidayagiri, Bagal...|28.424133333333327|\n",
      "|ICRISAT Patancher...| 26.91705069124424|\n",
      "|PWD Juction, Kohi...|26.914473684210527|\n",
      "|Railway Colony, G...| 26.73091503267974|\n",
      "|Manali Village, C...|26.636350710900476|\n",
      "|Ballygunge, Kolka...|26.015131578947372|\n",
      "|         Arica-10653|24.732142857142858|\n",
      "|Victoria, Kolkata...|21.438562091503268|\n",
      "|Bidhannagar, Kolk...| 19.56473333333333|\n",
      "|Kalyana Nagara, C...|18.763664122137403|\n",
      "|Rabindra Sarobar,...| 18.64788732394366|\n",
      "|       Smestad-10894|       17.30180065|\n",
      "|Vijay Nagar, Rama...| 16.77304964539007|\n",
      "|Hebbal 1st Stage,...|15.662165898617515|\n",
      "|Sahilara, Maihar ...| 15.45562091503268|\n",
      "|Lumpyngngad, Shil...|14.515797101449275|\n",
      "|Radomsko, ul. Rol...|12.165562913907285|\n",
      "|Kacheripady, Erna...|12.155038759689923|\n",
      "|Kalisz, ul. Wyszy...|12.104100061349692|\n",
      "|       Alnabru-10495|11.757142857142858|\n",
      "+--------------------+------------------+\n",
      "only showing top 20 rows"
     ]
    }
   ],
   "source": [
    "from pyspark.sql.functions import avg\n",
    "\n",
    "# geat mean values for unique locations in that time\n",
    "loc_means = (\n",
    "    limited_day_df\n",
    "    .groupBy(\"location\")\n",
    "    .agg(avg(\"value\").alias(\"avg_value\"))\n",
    "    .where(col(\"avg_value\") < fixed_max)\n",
    "    .orderBy(desc(\"avg_value\"))\n",
    ")\n",
    "\n",
    "loc_means.show()"
   ]
  },
  {
   "cell_type": "markdown",
   "metadata": {},
   "source": [
    "# Task 2"
   ]
  },
  {
   "cell_type": "markdown",
   "metadata": {},
   "source": [
    "Highest pm10 per hour for given location"
   ]
  },
  {
   "cell_type": "code",
   "execution_count": 23,
   "metadata": {},
   "outputs": [
    {
     "data": {
      "application/vnd.jupyter.widget-view+json": {
       "model_id": "",
       "version_major": 2,
       "version_minor": 0
      },
      "text/plain": [
       "FloatProgress(value=0.0, bar_style='info', description='Progress:', layout=Layout(height='25px', width='50%'),…"
      ]
     },
     "metadata": {},
     "output_type": "display_data"
    }
   ],
   "source": [
    "limited_day_df_10 = (smog_df.select(\"location\",\"datetime\",\"value\")\n",
    "                  .where(\n",
    "                        (col(\"datetime\") >= lit(\"2022-05-17T00:00:000Z\")) & \n",
    "                        (col(\"datetime\") <  lit(\"2022-05-27T00:00:000Z\")))\n",
    "                  .where((col(\"parameter\") == \"pm10\"))\n",
    "                 )"
   ]
  },
  {
   "cell_type": "code",
   "execution_count": 24,
   "metadata": {},
   "outputs": [
    {
     "data": {
      "application/vnd.jupyter.widget-view+json": {
       "model_id": "",
       "version_major": 2,
       "version_minor": 0
      },
      "text/plain": [
       "FloatProgress(value=0.0, bar_style='info', description='Progress:', layout=Layout(height='25px', width='50%'),…"
      ]
     },
     "metadata": {},
     "output_type": "display_data"
    }
   ],
   "source": [
    "from datetime import datetime, timezone\n",
    "from pyspark.sql.types import TimestampType\n",
    "from pyspark.sql.functions import udf\n",
    "\n",
    "def convert_to_utc(nice_time_str):\n",
    "    local_dt = datetime.fromisoformat(nice_time_str)\n",
    "    utc_dt = local_dt.astimezone(timezone.utc)\n",
    "    return utc_dt.replace(minute=0, second=0, microsecond=0)\n",
    "\n",
    "convert_time = udf(convert_to_utc , TimestampType())"
   ]
  },
  {
   "cell_type": "code",
   "execution_count": 25,
   "metadata": {},
   "outputs": [
    {
     "data": {
      "application/vnd.jupyter.widget-view+json": {
       "model_id": "",
       "version_major": 2,
       "version_minor": 0
      },
      "text/plain": [
       "FloatProgress(value=0.0, bar_style='info', description='Progress:', layout=Layout(height='25px', width='50%'),…"
      ]
     },
     "metadata": {},
     "output_type": "display_data"
    },
    {
     "name": "stdout",
     "output_type": "stream",
     "text": [
      "+-------------------+--------+\n",
      "|           datetime|max_pm10|\n",
      "+-------------------+--------+\n",
      "|2022-05-16 23:00:00|   15.62|\n",
      "|2022-05-17 00:00:00| 13.6041|\n",
      "|2022-05-17 01:00:00| 13.7349|\n",
      "|2022-05-17 02:00:00| 15.1872|\n",
      "|2022-05-17 03:00:00| 13.0822|\n",
      "|2022-05-17 04:00:00| 14.0526|\n",
      "|2022-05-17 05:00:00| 19.2821|\n",
      "|2022-05-17 06:00:00| 18.9368|\n",
      "|2022-05-17 07:00:00| 15.2887|\n",
      "|2022-05-17 08:00:00| 44.2069|\n",
      "+-------------------+--------+\n",
      "only showing top 10 rows"
     ]
    }
   ],
   "source": [
    "results = (\n",
    "    limited_day_df_10\n",
    "    .where(col(\"location\") == loc)\n",
    "    .withColumn(\"datetime\", convert_time(\"datetime\"))\n",
    "    .groupBy(\"datetime\")\n",
    "    .agg(max(\"value\").alias(\"max_pm10\"))\n",
    "    .na.drop()\n",
    "    .orderBy(\"datetime\")\n",
    ")\n",
    "\n",
    "results.show(10)"
   ]
  },
  {
   "cell_type": "markdown",
   "metadata": {},
   "source": [
    "# Task 3\n",
    "\n",
    "Rank for average n highest measurements"
   ]
  },
  {
   "cell_type": "code",
   "execution_count": 26,
   "metadata": {},
   "outputs": [
    {
     "data": {
      "application/vnd.jupyter.widget-view+json": {
       "model_id": "",
       "version_major": 2,
       "version_minor": 0
      },
      "text/plain": [
       "FloatProgress(value=0.0, bar_style='info', description='Progress:', layout=Layout(height='25px', width='50%'),…"
      ]
     },
     "metadata": {},
     "output_type": "display_data"
    }
   ],
   "source": [
    "n = 5"
   ]
  },
  {
   "cell_type": "code",
   "execution_count": 27,
   "metadata": {},
   "outputs": [
    {
     "data": {
      "application/vnd.jupyter.widget-view+json": {
       "model_id": "",
       "version_major": 2,
       "version_minor": 0
      },
      "text/plain": [
       "FloatProgress(value=0.0, bar_style='info', description='Progress:', layout=Layout(height='25px', width='50%'),…"
      ]
     },
     "metadata": {},
     "output_type": "display_data"
    },
    {
     "name": "stdout",
     "output_type": "stream",
     "text": [
      "+--------------------+------------------+\n",
      "|            location|   value_5_day_avg|\n",
      "+--------------------+------------------+\n",
      "|Padre Las Casas I...|45.833333333333336|\n",
      "|Rohini, Delhi - D...|              30.6|\n",
      "|ITO, Delhi - CPCB...|              26.0|\n",
      "|T T Nagar, Bhopal...|25.333333333333332|\n",
      "|Samanpura, Patna ...|22.660000000000004|\n",
      "|Rajbansi Nagar, P...|             22.06|\n",
      "|Narela, Delhi - D...|              21.6|\n",
      "|Chhoti Gwaltoli, ...|              21.2|\n",
      "|         Arica-10653|19.928571428571427|\n",
      "|Palayam, Kozhikod...|19.571428571428573|\n",
      "|Najafgarh, Delhi ...|19.166666666666668|\n",
      "|Sri Aurobindo Mar...|              18.8|\n",
      "|NISE Gwal Pahari,...|18.374000000000002|\n",
      "|Mundka, Delhi - D...|              17.4|\n",
      "|Thavakkara, Kannu...|            16.788|\n",
      "|Sanjay Nagar, Gha...|              15.8|\n",
      "|Marhatal, Jabalpu...|              15.0|\n",
      "|Sector-12, Karnal...|            14.864|\n",
      "|City Center, Gwal...|14.833333333333334|\n",
      "|Rishi Nagar, Kait...|            10.328|\n",
      "+--------------------+------------------+\n",
      "only showing top 20 rows"
     ]
    }
   ],
   "source": [
    "from pyspark.sql.window import Window\n",
    "from pyspark.sql.functions import rank, desc\n",
    "\n",
    "window = Window.partitionBy(\"location\").orderBy(\"value\")\n",
    "    \n",
    "df_ranked = (\n",
    "    limited_day_df\n",
    "    .select(\"location\", \"value\")\n",
    "    .na.drop()\n",
    "    .withColumn(\"rank\", rank().over(window))\n",
    ")\n",
    "\n",
    "df_avg_ranked = (\n",
    "    df_ranked\n",
    "    .select(\"location\", \"value\")\n",
    "    .where(col(\"rank\") <= n)\n",
    "    .groupBy(\"location\")\n",
    "    .agg(avg(\"value\").alias(\"value_5_day_avg\"))\n",
    "    .orderBy(desc(\"value_5_day_avg\"))\n",
    ")\n",
    "\n",
    "df_avg_ranked.show()"
   ]
  },
  {
   "cell_type": "markdown",
   "metadata": {},
   "source": [
    "# Task 4\n",
    "\n",
    "Visualize on map - visualizing average per country is not possible so I'll try to visualize locations from which we have measurements in given time window"
   ]
  },
  {
   "cell_type": "code",
   "execution_count": 28,
   "metadata": {},
   "outputs": [
    {
     "data": {
      "application/vnd.jupyter.widget-view+json": {
       "model_id": "",
       "version_major": 2,
       "version_minor": 0
      },
      "text/plain": [
       "FloatProgress(value=0.0, bar_style='info', description='Progress:', layout=Layout(height='25px', width='50%'),…"
      ]
     },
     "metadata": {},
     "output_type": "display_data"
    },
    {
     "name": "stdout",
     "output_type": "stream",
     "text": [
      "Collecting cartopy\n",
      "  Downloading Cartopy-0.23.0-cp39-cp39-manylinux_2_17_x86_64.manylinux2014_x86_64.whl (11.6 MB)\n",
      "Requirement already satisfied: packaging>=20 in ./tmp/spark-d7cf1d2c-282b-44ce-b3cd-9fdf335250d0/lib/python3.9/site-packages (from cartopy) (24.1)\n",
      "Collecting pyproj>=3.3.1\n",
      "  Downloading pyproj-3.6.1-cp39-cp39-manylinux_2_17_x86_64.manylinux2014_x86_64.whl (8.3 MB)\n",
      "Requirement already satisfied: matplotlib>=3.5 in ./tmp/spark-d7cf1d2c-282b-44ce-b3cd-9fdf335250d0/lib64/python3.9/site-packages (from cartopy) (3.9.2)\n",
      "Collecting shapely>=1.7\n",
      "  Downloading shapely-2.0.6-cp39-cp39-manylinux_2_17_x86_64.manylinux2014_x86_64.whl (2.5 MB)\n",
      "Collecting pyshp>=2.3\n",
      "  Downloading pyshp-2.3.1-py2.py3-none-any.whl (46 kB)\n",
      "Requirement already satisfied: numpy>=1.21 in ./tmp/spark-d7cf1d2c-282b-44ce-b3cd-9fdf335250d0/lib64/python3.9/site-packages (from cartopy) (2.0.2)\n",
      "Requirement already satisfied: kiwisolver>=1.3.1 in ./tmp/spark-d7cf1d2c-282b-44ce-b3cd-9fdf335250d0/lib64/python3.9/site-packages (from matplotlib>=3.5->cartopy) (1.4.7)\n",
      "Requirement already satisfied: cycler>=0.10 in ./tmp/spark-d7cf1d2c-282b-44ce-b3cd-9fdf335250d0/lib/python3.9/site-packages (from matplotlib>=3.5->cartopy) (0.12.1)\n",
      "Requirement already satisfied: contourpy>=1.0.1 in ./tmp/spark-d7cf1d2c-282b-44ce-b3cd-9fdf335250d0/lib64/python3.9/site-packages (from matplotlib>=3.5->cartopy) (1.3.0)\n",
      "Requirement already satisfied: pyparsing>=2.3.1 in ./tmp/spark-d7cf1d2c-282b-44ce-b3cd-9fdf335250d0/lib/python3.9/site-packages (from matplotlib>=3.5->cartopy) (3.2.0)\n",
      "Requirement already satisfied: importlib-resources>=3.2.0 in ./tmp/spark-d7cf1d2c-282b-44ce-b3cd-9fdf335250d0/lib/python3.9/site-packages (from matplotlib>=3.5->cartopy) (6.4.5)\n",
      "Requirement already satisfied: pillow>=8 in ./tmp/spark-d7cf1d2c-282b-44ce-b3cd-9fdf335250d0/lib64/python3.9/site-packages (from matplotlib>=3.5->cartopy) (11.0.0)\n",
      "Requirement already satisfied: python-dateutil>=2.7 in ./tmp/spark-d7cf1d2c-282b-44ce-b3cd-9fdf335250d0/lib/python3.9/site-packages (from matplotlib>=3.5->cartopy) (2.9.0.post0)\n",
      "Requirement already satisfied: fonttools>=4.22.0 in ./tmp/spark-d7cf1d2c-282b-44ce-b3cd-9fdf335250d0/lib64/python3.9/site-packages (from matplotlib>=3.5->cartopy) (4.54.1)\n",
      "Collecting certifi\n",
      "  Downloading certifi-2024.8.30-py3-none-any.whl (167 kB)\n",
      "Requirement already satisfied: zipp>=3.1.0 in ./tmp/spark-d7cf1d2c-282b-44ce-b3cd-9fdf335250d0/lib/python3.9/site-packages (from importlib-resources>=3.2.0->matplotlib>=3.5->cartopy) (3.20.2)\n",
      "Requirement already satisfied: six>=1.5 in /usr/local/lib/python3.9/site-packages (from python-dateutil>=2.7->matplotlib>=3.5->cartopy) (1.13.0)\n",
      "Installing collected packages: certifi, shapely, pyshp, pyproj, cartopy\n",
      "Successfully installed cartopy-0.23.0 certifi-2024.8.30 pyproj-3.6.1 pyshp-2.3.1 shapely-2.0.6\n",
      "\n",
      "WARNING: The directory '/home/.cache/pip' or its parent directory is not owned or is not writable by the current user. The cache has been disabled. Check the permissions and owner of that directory. If executing pip with sudo, you should use sudo's -H flag."
     ]
    }
   ],
   "source": [
    "sc.install_pypi_package(\"cartopy\")"
   ]
  },
  {
   "cell_type": "code",
   "execution_count": 29,
   "metadata": {},
   "outputs": [
    {
     "data": {
      "application/vnd.jupyter.widget-view+json": {
       "model_id": "",
       "version_major": 2,
       "version_minor": 0
      },
      "text/plain": [
       "FloatProgress(value=0.0, bar_style='info', description='Progress:', layout=Layout(height='25px', width='50%'),…"
      ]
     },
     "metadata": {},
     "output_type": "display_data"
    }
   ],
   "source": [
    "lat_long = (smog_df.select(\"lat\",\"lon\",\"datetime\",\"value\")\n",
    "                  .where(\n",
    "                        (col(\"datetime\") >= lit(\"2022-05-17T00:00:000Z\")) & \n",
    "                        (col(\"datetime\") <  lit(\"2022-05-27T00:00:000Z\")))\n",
    "                  .where((col(\"parameter\") == \"pm25\"))).toPandas()\n",
    "                 \n",
    "\n",
    "lat = lat_long[\"lat\"].values\n",
    "long = lat_long[\"lon\"].values"
   ]
  },
  {
   "cell_type": "code",
   "execution_count": 30,
   "metadata": {},
   "outputs": [
    {
     "data": {
      "application/vnd.jupyter.widget-view+json": {
       "model_id": "",
       "version_major": 2,
       "version_minor": 0
      },
      "text/plain": [
       "FloatProgress(value=0.0, bar_style='info', description='Progress:', layout=Layout(height='25px', width='50%'),…"
      ]
     },
     "metadata": {},
     "output_type": "display_data"
    },
    {
     "name": "stdout",
     "output_type": "stream",
     "text": [
      "array(['50.349608', '50.349608', '50.349608', ..., '-36.36926',\n",
      "       '-36.36926', '-36.36926'], dtype=object)"
     ]
    }
   ],
   "source": [
    "lat"
   ]
  },
  {
   "cell_type": "code",
   "execution_count": 31,
   "metadata": {},
   "outputs": [
    {
     "data": {
      "application/vnd.jupyter.widget-view+json": {
       "model_id": "",
       "version_major": 2,
       "version_minor": 0
      },
      "text/plain": [
       "FloatProgress(value=0.0, bar_style='info', description='Progress:', layout=Layout(height='25px', width='50%'),…"
      ]
     },
     "metadata": {},
     "output_type": "display_data"
    },
    {
     "name": "stdout",
     "output_type": "stream",
     "text": [
      "array(['18.236575', '18.236575', '18.236575', ..., '146.3133', '146.3133',\n",
      "       '146.3133'], dtype=object)"
     ]
    }
   ],
   "source": [
    "long"
   ]
  },
  {
   "cell_type": "code",
   "execution_count": 85,
   "metadata": {},
   "outputs": [
    {
     "data": {
      "application/vnd.jupyter.widget-view+json": {
       "model_id": "",
       "version_major": 2,
       "version_minor": 0
      },
      "text/plain": [
       "FloatProgress(value=0.0, bar_style='info', description='Progress:', layout=Layout(height='25px', width='50%'),…"
      ]
     },
     "metadata": {},
     "output_type": "display_data"
    }
   ],
   "source": [
    "import cartopy.crs as crs\n",
    "import matplotlib.pyplot as plt\n",
    "\n",
    "plt.figure()\n",
    "ax = plt.axes(projection=crs.PlateCarree())\n",
    "ax.stock_img()\n",
    "ax.coastlines()\n",
    "\n",
    "plt.scatter(\n",
    "    x=long,\n",
    "    y=lat,\n",
    "    color=\"r\",\n",
    "    s=1,\n",
    "    transform=crs.PlateCarree(),\n",
    ")\n",
    "\n",
    "plt.show()\n",
    "\n",
    "# for some reason the image won't plot in jupyter hub on spark cluster\n",
    "# Using spark magic doesn't help and results in errors\n",
    "\n",
    "# %matplot plt"
   ]
  },
  {
   "cell_type": "markdown",
   "metadata": {},
   "source": [
    "# Task 5\n",
    "\n",
    "Scaling"
   ]
  },
  {
   "cell_type": "code",
   "execution_count": 33,
   "metadata": {},
   "outputs": [
    {
     "data": {
      "application/vnd.jupyter.widget-view+json": {
       "model_id": "",
       "version_major": 2,
       "version_minor": 0
      },
      "text/plain": [
       "FloatProgress(value=0.0, bar_style='info', description='Progress:', layout=Layout(height='25px', width='50%'),…"
      ]
     },
     "metadata": {},
     "output_type": "display_data"
    }
   ],
   "source": [
    "from functools import reduce\n",
    "\n",
    "large_df = reduce(lambda df1, df2: df1.union(df2), [smog_df]*150)"
   ]
  },
  {
   "cell_type": "code",
   "execution_count": 34,
   "metadata": {},
   "outputs": [
    {
     "data": {
      "application/vnd.jupyter.widget-view+json": {
       "model_id": "",
       "version_major": 2,
       "version_minor": 0
      },
      "text/plain": [
       "FloatProgress(value=0.0, bar_style='info', description='Progress:', layout=Layout(height='25px', width='50%'),…"
      ]
     },
     "metadata": {},
     "output_type": "display_data"
    }
   ],
   "source": [
    "# narrow down the days\n",
    "limited_day_df = (large_df.select(\"location\",\"value\")\n",
    "                  .where((col(\"parameter\") == \"pm25\"))) "
   ]
  },
  {
   "cell_type": "code",
   "execution_count": 35,
   "metadata": {},
   "outputs": [
    {
     "data": {
      "application/vnd.jupyter.widget-view+json": {
       "model_id": "",
       "version_major": 2,
       "version_minor": 0
      },
      "text/plain": [
       "FloatProgress(value=0.0, bar_style='info', description='Progress:', layout=Layout(height='25px', width='50%'),…"
      ]
     },
     "metadata": {},
     "output_type": "display_data"
    },
    {
     "name": "stdout",
     "output_type": "stream",
     "text": [
      "DataFrame[location: string, value: double]"
     ]
    }
   ],
   "source": [
    "limited_day_df.cache()"
   ]
  },
  {
   "cell_type": "code",
   "execution_count": 36,
   "metadata": {},
   "outputs": [
    {
     "data": {
      "application/vnd.jupyter.widget-view+json": {
       "model_id": "",
       "version_major": 2,
       "version_minor": 0
      },
      "text/plain": [
       "FloatProgress(value=0.0, bar_style='info', description='Progress:', layout=Layout(height='25px', width='50%'),…"
      ]
     },
     "metadata": {},
     "output_type": "display_data"
    }
   ],
   "source": [
    "# select a unique location\n",
    "loc = limited_day_df.select('location').first()[0]"
   ]
  },
  {
   "cell_type": "markdown",
   "metadata": {},
   "source": [
    "The cell below takes the most of the computation time, so it will be the one that we'll use for measurements\n",
    "\n",
    "All other parts of computation for task 1 are computed in less than 1 second"
   ]
  },
  {
   "cell_type": "code",
   "execution_count": 47,
   "metadata": {
    "scrolled": true
   },
   "outputs": [
    {
     "data": {
      "application/vnd.jupyter.widget-view+json": {
       "model_id": "",
       "version_major": 2,
       "version_minor": 0
      },
      "text/plain": [
       "FloatProgress(value=0.0, bar_style='info', description='Progress:', layout=Layout(height='25px', width='50%'),…"
      ]
     },
     "metadata": {},
     "output_type": "display_data"
    },
    {
     "name": "stdout",
     "output_type": "stream",
     "text": [
      "382.8026580810547"
     ]
    }
   ],
   "source": [
    "start = time.time()\n",
    "\n",
    "# get the maximal value for the fixed location\n",
    "fixed_max = (\n",
    "    limited_day_df\n",
    "    .where((col(\"location\") == loc))\n",
    "    .select(max(col(\"value\")))\n",
    "    .first()[0]\n",
    ")\n",
    "\n",
    "end = time.time()\n",
    "print(end-start)"
   ]
  },
  {
   "cell_type": "code",
   "execution_count": 71,
   "metadata": {},
   "outputs": [
    {
     "data": {
      "application/vnd.jupyter.widget-view+json": {
       "model_id": "",
       "version_major": 2,
       "version_minor": 0
      },
      "text/plain": [
       "FloatProgress(value=0.0, bar_style='info', description='Progress:', layout=Layout(height='25px', width='50%'),…"
      ]
     },
     "metadata": {},
     "output_type": "display_data"
    }
   ],
   "source": [
    "cores = [1,2,3,4,5,6,7]\n",
    "times = [594.58,382.80,188,121.85,90.14,68.06,58.64]"
   ]
  },
  {
   "cell_type": "code",
   "execution_count": 73,
   "metadata": {},
   "outputs": [
    {
     "data": {
      "application/vnd.jupyter.widget-view+json": {
       "model_id": "",
       "version_major": 2,
       "version_minor": 0
      },
      "text/plain": [
       "FloatProgress(value=0.0, bar_style='info', description='Progress:', layout=Layout(height='25px', width='50%'),…"
      ]
     },
     "metadata": {},
     "output_type": "display_data"
    },
    {
     "data": {
      "image/png": "[encoded data removed]",
      "text/plain": [
       "<IPython.core.display.Image object>"
      ]
     },
     "metadata": {},
     "output_type": "display_data"
    }
   ],
   "source": [
    "plt.figure()\n",
    "plt.scatter(cores, times)\n",
    "plt.xlabel(\"Number of cores\")\n",
    "plt.ylabel(\"Execution time [s]\")\n",
    "plt.show()\n",
    "%matplot plt"
   ]
  },
  {
   "cell_type": "code",
   "execution_count": 77,
   "metadata": {},
   "outputs": [
    {
     "data": {
      "application/vnd.jupyter.widget-view+json": {
       "model_id": "",
       "version_major": 2,
       "version_minor": 0
      },
      "text/plain": [
       "FloatProgress(value=0.0, bar_style='info', description='Progress:', layout=Layout(height='25px', width='50%'),…"
      ]
     },
     "metadata": {},
     "output_type": "display_data"
    },
    {
     "data": {
      "image/png": "[encoded data removed]",
      "text/plain": [
       "<IPython.core.display.Image object>"
      ]
     },
     "metadata": {},
     "output_type": "display_data"
    }
   ],
   "source": [
    "plt.figure()\n",
    "plt.scatter(cores, [times[0]/t for t in times])\n",
    "plt.xlabel(\"Number of cores\")\n",
    "plt.ylabel(\"Speedup\")\n",
    "plt.show()\n",
    "%matplot plt"
   ]
  },
  {
   "cell_type": "markdown",
   "metadata": {},
   "source": [
    "For some reason the speedup is higher than expected. Most probably because of very slow computation of the single core processing"
   ]
  },
  {
   "cell_type": "code",
   "execution_count": 82,
   "metadata": {},
   "outputs": [
    {
     "data": {
      "application/vnd.jupyter.widget-view+json": {
       "model_id": "",
       "version_major": 2,
       "version_minor": 0
      },
      "text/plain": [
       "FloatProgress(value=0.0, bar_style='info', description='Progress:', layout=Layout(height='25px', width='50%'),…"
      ]
     },
     "metadata": {},
     "output_type": "display_data"
    },
    {
     "data": {
      "image/png": "[encoded data removed]",
      "text/plain": [
       "<IPython.core.display.Image object>"
      ]
     },
     "metadata": {},
     "output_type": "display_data"
    }
   ],
   "source": [
    "plt.figure()\n",
    "plt.scatter(cores, [times[0]/(t*c) for t,c in zip(times,cores)])\n",
    "plt.xlabel(\"Number of cores\")\n",
    "plt.ylabel(\"Efficiency\")\n",
    "plt.show()\n",
    "%matplot plt"
   ]
  },
  {
   "cell_type": "markdown",
   "metadata": {},
   "source": [
    "# Task 6\n",
    "\n",
    "Make plots for example task with 2 cores"
   ]
  },
  {
   "cell_type": "code",
   "execution_count": 91,
   "metadata": {},
   "outputs": [
    {
     "data": {
      "application/vnd.jupyter.widget-view+json": {
       "model_id": "",
       "version_major": 2,
       "version_minor": 0
      },
      "text/plain": [
       "FloatProgress(value=0.0, bar_style='info', description='Progress:', layout=Layout(height='25px', width='50%'),…"
      ]
     },
     "metadata": {},
     "output_type": "display_data"
    }
   ],
   "source": [
    "smog_limited = (smog_df.select(\"location\",\"value\")\n",
    "              .where(\n",
    "                    (col(\"datetime\") >= lit(\"2022-05-17T00:00:000Z\")) & \n",
    "                    (col(\"datetime\") <  lit(\"2022-05-27T00:00:000Z\")))\n",
    "              .where((col(\"parameter\") == \"pm25\")))"
   ]
  },
  {
   "cell_type": "code",
   "execution_count": 93,
   "metadata": {},
   "outputs": [
    {
     "data": {
      "application/vnd.jupyter.widget-view+json": {
       "model_id": "",
       "version_major": 2,
       "version_minor": 0
      },
      "text/plain": [
       "FloatProgress(value=0.0, bar_style='info', description='Progress:', layout=Layout(height='25px', width='50%'),…"
      ]
     },
     "metadata": {},
     "output_type": "display_data"
    },
    {
     "name": "stdout",
     "output_type": "stream",
     "text": [
      "+--------------------+-------+\n",
      "|            location|  value|\n",
      "+--------------------+-------+\n",
      "|Kędzierzyn-Koźle,...|7.29604|\n",
      "|Kędzierzyn-Koźle,...|6.15005|\n",
      "|Kędzierzyn-Koźle,...|7.23389|\n",
      "|Kędzierzyn-Koźle,...|8.16159|\n",
      "|Kędzierzyn-Koźle,...|7.60069|\n",
      "|Kędzierzyn-Koźle,...|8.19521|\n",
      "|Kędzierzyn-Koźle,...|9.53123|\n",
      "|Kędzierzyn-Koźle,...| 9.7266|\n",
      "|Kędzierzyn-Koźle,...| 6.0074|\n",
      "|Kędzierzyn-Koźle,...|11.8849|\n",
      "|Kędzierzyn-Koźle,...|8.42319|\n",
      "|Kędzierzyn-Koźle,...|8.74669|\n",
      "|Kędzierzyn-Koźle,...|9.94719|\n",
      "|Kędzierzyn-Koźle,...|12.8582|\n",
      "|Kędzierzyn-Koźle,...|16.3435|\n",
      "|Kędzierzyn-Koźle,...|17.6108|\n",
      "|Kędzierzyn-Koźle,...|5.71142|\n",
      "|Kędzierzyn-Koźle,...| 2.5442|\n",
      "|Kędzierzyn-Koźle,...|2.78415|\n",
      "|Kędzierzyn-Koźle,...|2.59362|\n",
      "+--------------------+-------+\n",
      "only showing top 20 rows"
     ]
    }
   ],
   "source": [
    "smog_limited.show()"
   ]
  },
  {
   "cell_type": "markdown",
   "metadata": {},
   "source": [
    "---"
   ]
  },
  {
   "cell_type": "markdown",
   "metadata": {},
   "source": [
    "![](dag_for_2_jobs.png)"
   ]
  },
  {
   "cell_type": "markdown",
   "metadata": {},
   "source": [
    "![](task_for_2_jobs.png)"
   ]
  },
  {
   "cell_type": "code",
   "execution_count": null,
   "metadata": {},
   "outputs": [],
   "source": []
  }
 ],
 "metadata": {
  "application/vnd.databricks.v1+notebook": {
   "dashboards": [],
   "language": "python",
   "notebookMetadata": {
    "pythonIndentUnit": 4
   },
   "notebookName": "ADZD-3-Smog-Intro",
   "widgets": {}
  },
  "kernelspec": {
   "display_name": "PySpark",
   "language": "python",
   "name": "pysparkkernel"
  },
  "language_info": {
   "codemirror_mode": {
    "name": "python",
    "version": 3
   },
   "file_extension": ".py",
   "mimetype": "text/x-python",
   "name": "pyspark",
   "pygments_lexer": "python3"
  }
 },
 "nbformat": 4,
 "nbformat_minor": 4
}
