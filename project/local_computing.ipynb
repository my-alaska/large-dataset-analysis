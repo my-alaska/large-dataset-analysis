{
 "cells": [
  {
   "cell_type": "markdown",
   "source": [
    "# Dask with scikit-fingerprints\n",
    "\n",
    "### First load the dataset"
   ],
   "metadata": {
    "collapsed": false
   },
   "id": "f2ef5d2d4635fc7f"
  },
  {
   "cell_type": "code",
   "execution_count": 1,
   "id": "initial_id",
   "metadata": {
    "collapsed": true,
    "ExecuteTime": {
     "end_time": "2024-12-16T20:14:46.205462800Z",
     "start_time": "2024-12-16T20:14:43.158155200Z"
    }
   },
   "outputs": [],
   "source": [
    "from skfp.datasets.moleculenet import load_pcba\n",
    "\n",
    "pcba_molecules = load_pcba()[0]"
   ]
  },
  {
   "cell_type": "markdown",
   "source": [
    "### Compute molecules with standard joblib backend"
   ],
   "metadata": {
    "collapsed": false
   },
   "id": "1caacf5245d5b7ef"
  },
  {
   "cell_type": "code",
   "execution_count": 2,
   "outputs": [
    {
     "name": "stdout",
     "output_type": "stream",
     "text": [
      "computation time 82.3 s\n"
     ]
    }
   ],
   "source": [
    "from time import time\n",
    "from skfp.fingerprints import MAPFingerprint\n",
    "\n",
    "fp = MAPFingerprint(n_jobs=16)\n",
    "\n",
    "start = time()\n",
    "fps_joblib = fp.transform(pcba_molecules)\n",
    "end = time()\n",
    "\n",
    "print(f\"computation time {end-start:.3} s\")"
   ],
   "metadata": {
    "collapsed": false,
    "ExecuteTime": {
     "end_time": "2024-12-16T20:16:08.900323600Z",
     "start_time": "2024-12-16T20:14:46.206463800Z"
    }
   },
   "id": "b1d589df799fa1fb"
  },
  {
   "cell_type": "markdown",
   "source": [
    "### Compute with Dask"
   ],
   "metadata": {
    "collapsed": false
   },
   "id": "b89f93f909a26269"
  },
  {
   "cell_type": "code",
   "execution_count": 3,
   "outputs": [
    {
     "name": "stderr",
     "output_type": "stream",
     "text": [
      "2024-12-16 21:16:09,451|INFO|To route to workers diagnostics web server please install jupyter-server-proxy: python -m pip install jupyter-server-proxy\n",
      "2024-12-16 21:16:09,469|INFO|State start\n",
      "2024-12-16 21:16:09,479|INFO|  Scheduler at:     tcp://127.0.0.1:60199\n",
      "2024-12-16 21:16:09,480|INFO|  dashboard at:  http://127.0.0.1:8787/status\n",
      "2024-12-16 21:16:09,480|INFO|Registering Worker plugin shuffle\n",
      "2024-12-16 21:16:09,585|INFO|        Start Nanny at: 'tcp://127.0.0.1:60220'\n",
      "2024-12-16 21:16:09,587|INFO|        Start Nanny at: 'tcp://127.0.0.1:60204'\n",
      "2024-12-16 21:16:09,589|INFO|        Start Nanny at: 'tcp://127.0.0.1:60206'\n",
      "2024-12-16 21:16:09,591|INFO|        Start Nanny at: 'tcp://127.0.0.1:60222'\n",
      "2024-12-16 21:16:09,594|INFO|        Start Nanny at: 'tcp://127.0.0.1:60224'\n",
      "2024-12-16 21:16:09,598|INFO|        Start Nanny at: 'tcp://127.0.0.1:60208'\n",
      "2024-12-16 21:16:09,601|INFO|        Start Nanny at: 'tcp://127.0.0.1:60210'\n",
      "2024-12-16 21:16:09,604|INFO|        Start Nanny at: 'tcp://127.0.0.1:60226'\n",
      "2024-12-16 21:16:09,609|INFO|        Start Nanny at: 'tcp://127.0.0.1:60202'\n",
      "2024-12-16 21:16:09,612|INFO|        Start Nanny at: 'tcp://127.0.0.1:60228'\n",
      "2024-12-16 21:16:09,615|INFO|        Start Nanny at: 'tcp://127.0.0.1:60212'\n",
      "2024-12-16 21:16:09,628|INFO|        Start Nanny at: 'tcp://127.0.0.1:60230'\n",
      "2024-12-16 21:16:09,631|INFO|        Start Nanny at: 'tcp://127.0.0.1:60214'\n",
      "2024-12-16 21:16:09,635|INFO|        Start Nanny at: 'tcp://127.0.0.1:60232'\n",
      "2024-12-16 21:16:09,638|INFO|        Start Nanny at: 'tcp://127.0.0.1:60216'\n",
      "2024-12-16 21:16:09,641|INFO|        Start Nanny at: 'tcp://127.0.0.1:60218'\n",
      "2024-12-16 21:16:10,670|INFO|Register worker addr: tcp://127.0.0.1:60266 name: 2\n",
      "2024-12-16 21:16:10,674|INFO|Starting worker compute stream, tcp://127.0.0.1:60266\n",
      "2024-12-16 21:16:10,675|INFO|Starting established connection to tcp://127.0.0.1:60271\n",
      "2024-12-16 21:16:10,684|INFO|Register worker addr: tcp://127.0.0.1:60267 name: 9\n",
      "2024-12-16 21:16:10,687|INFO|Starting worker compute stream, tcp://127.0.0.1:60267\n",
      "2024-12-16 21:16:10,687|INFO|Starting established connection to tcp://127.0.0.1:60277\n",
      "2024-12-16 21:16:10,700|INFO|Register worker addr: tcp://127.0.0.1:60268 name: 12\n",
      "2024-12-16 21:16:10,702|INFO|Starting worker compute stream, tcp://127.0.0.1:60268\n",
      "2024-12-16 21:16:10,703|INFO|Starting established connection to tcp://127.0.0.1:60283\n",
      "2024-12-16 21:16:10,716|INFO|Register worker addr: tcp://127.0.0.1:60273 name: 5\n",
      "2024-12-16 21:16:10,717|INFO|Starting worker compute stream, tcp://127.0.0.1:60273\n",
      "2024-12-16 21:16:10,718|INFO|Starting established connection to tcp://127.0.0.1:60288\n",
      "2024-12-16 21:16:10,719|INFO|Register worker addr: tcp://127.0.0.1:60281 name: 14\n",
      "2024-12-16 21:16:10,720|INFO|Starting worker compute stream, tcp://127.0.0.1:60281\n",
      "2024-12-16 21:16:10,720|INFO|Starting established connection to tcp://127.0.0.1:60300\n",
      "2024-12-16 21:16:10,721|INFO|Register worker addr: tcp://127.0.0.1:60278 name: 0\n",
      "2024-12-16 21:16:10,722|INFO|Starting worker compute stream, tcp://127.0.0.1:60278\n",
      "2024-12-16 21:16:10,723|INFO|Starting established connection to tcp://127.0.0.1:60302\n",
      "2024-12-16 21:16:10,724|INFO|Register worker addr: tcp://127.0.0.1:60274 name: 6\n",
      "2024-12-16 21:16:10,725|INFO|Starting worker compute stream, tcp://127.0.0.1:60274\n",
      "2024-12-16 21:16:10,725|INFO|Starting established connection to tcp://127.0.0.1:60289\n",
      "2024-12-16 21:16:10,727|INFO|Register worker addr: tcp://127.0.0.1:60272 name: 4\n",
      "2024-12-16 21:16:10,728|INFO|Starting worker compute stream, tcp://127.0.0.1:60272\n",
      "2024-12-16 21:16:10,728|INFO|Starting established connection to tcp://127.0.0.1:60285\n",
      "2024-12-16 21:16:10,730|INFO|Register worker addr: tcp://127.0.0.1:60275 name: 7\n",
      "2024-12-16 21:16:10,731|INFO|Starting worker compute stream, tcp://127.0.0.1:60275\n",
      "2024-12-16 21:16:10,731|INFO|Starting established connection to tcp://127.0.0.1:60292\n",
      "2024-12-16 21:16:10,732|INFO|Register worker addr: tcp://127.0.0.1:60279 name: 15\n",
      "2024-12-16 21:16:10,732|INFO|Starting worker compute stream, tcp://127.0.0.1:60279\n",
      "2024-12-16 21:16:10,733|INFO|Starting established connection to tcp://127.0.0.1:60298\n",
      "2024-12-16 21:16:10,742|INFO|Register worker addr: tcp://127.0.0.1:60280 name: 8\n",
      "2024-12-16 21:16:10,743|INFO|Starting worker compute stream, tcp://127.0.0.1:60280\n",
      "2024-12-16 21:16:10,744|INFO|Starting established connection to tcp://127.0.0.1:60294\n",
      "2024-12-16 21:16:10,749|INFO|Register worker addr: tcp://127.0.0.1:60291 name: 1\n",
      "2024-12-16 21:16:10,750|INFO|Starting worker compute stream, tcp://127.0.0.1:60291\n",
      "2024-12-16 21:16:10,750|INFO|Starting established connection to tcp://127.0.0.1:60305\n",
      "2024-12-16 21:16:10,751|INFO|Register worker addr: tcp://127.0.0.1:60301 name: 3\n",
      "2024-12-16 21:16:10,752|INFO|Starting worker compute stream, tcp://127.0.0.1:60301\n",
      "2024-12-16 21:16:10,752|INFO|Starting established connection to tcp://127.0.0.1:60309\n",
      "2024-12-16 21:16:10,753|INFO|Register worker addr: tcp://127.0.0.1:60295 name: 13\n",
      "2024-12-16 21:16:10,753|INFO|Starting worker compute stream, tcp://127.0.0.1:60295\n",
      "2024-12-16 21:16:10,754|INFO|Starting established connection to tcp://127.0.0.1:60308\n",
      "2024-12-16 21:16:10,754|INFO|Register worker addr: tcp://127.0.0.1:60303 name: 10\n",
      "2024-12-16 21:16:10,755|INFO|Starting worker compute stream, tcp://127.0.0.1:60303\n",
      "2024-12-16 21:16:10,755|INFO|Starting established connection to tcp://127.0.0.1:60311\n",
      "2024-12-16 21:16:10,834|INFO|Register worker addr: tcp://127.0.0.1:60312 name: 11\n",
      "2024-12-16 21:16:10,835|INFO|Starting worker compute stream, tcp://127.0.0.1:60312\n",
      "2024-12-16 21:16:10,836|INFO|Starting established connection to tcp://127.0.0.1:60314\n"
     ]
    },
    {
     "data": {
      "text/plain": "'tcp://127.0.0.1:60199'"
     },
     "execution_count": 3,
     "metadata": {},
     "output_type": "execute_result"
    }
   ],
   "source": [
    "from dask.distributed import LocalCluster\n",
    "\n",
    "# create local cluster\n",
    "cluster = LocalCluster(n_workers=16)\n",
    "cluster.scheduler_address"
   ],
   "metadata": {
    "collapsed": false,
    "ExecuteTime": {
     "end_time": "2024-12-16T20:16:10.891298100Z",
     "start_time": "2024-12-16T20:16:08.897325900Z"
    }
   },
   "id": "cec4110750ede0cf"
  },
  {
   "cell_type": "code",
   "execution_count": 4,
   "outputs": [
    {
     "data": {
      "text/plain": "'http://127.0.0.1:8787/status'"
     },
     "execution_count": 4,
     "metadata": {},
     "output_type": "execute_result"
    }
   ],
   "source": [
    "cluster.dashboard_link"
   ],
   "metadata": {
    "collapsed": false,
    "ExecuteTime": {
     "end_time": "2024-12-16T20:16:10.891298100Z",
     "start_time": "2024-12-16T20:16:10.887385Z"
    }
   },
   "id": "93f807aff0f163ca"
  },
  {
   "cell_type": "code",
   "execution_count": 5,
   "outputs": [
    {
     "name": "stderr",
     "output_type": "stream",
     "text": [
      "2024-12-16 21:17:36,410|INFO|Closing Nanny at 'tcp://127.0.0.1:60202'. Reason: nanny-close\n",
      "2024-12-16 21:17:36,410|INFO|Nanny asking worker to close. Reason: nanny-close\n",
      "2024-12-16 21:17:36,411|INFO|Closing Nanny at 'tcp://127.0.0.1:60204'. Reason: nanny-close\n",
      "2024-12-16 21:17:36,412|INFO|Nanny asking worker to close. Reason: nanny-close\n",
      "2024-12-16 21:17:36,412|INFO|Closing Nanny at 'tcp://127.0.0.1:60206'. Reason: nanny-close\n",
      "2024-12-16 21:17:36,413|INFO|Nanny asking worker to close. Reason: nanny-close\n",
      "2024-12-16 21:17:36,414|INFO|Closing Nanny at 'tcp://127.0.0.1:60208'. Reason: nanny-close\n",
      "2024-12-16 21:17:36,415|INFO|Nanny asking worker to close. Reason: nanny-close\n",
      "2024-12-16 21:17:36,415|INFO|Closing Nanny at 'tcp://127.0.0.1:60210'. Reason: nanny-close\n",
      "2024-12-16 21:17:36,416|INFO|Nanny asking worker to close. Reason: nanny-close\n",
      "2024-12-16 21:17:36,417|INFO|Closing Nanny at 'tcp://127.0.0.1:60212'. Reason: nanny-close\n",
      "2024-12-16 21:17:36,418|INFO|Nanny asking worker to close. Reason: nanny-close\n",
      "2024-12-16 21:17:36,418|INFO|Closing Nanny at 'tcp://127.0.0.1:60214'. Reason: nanny-close\n",
      "2024-12-16 21:17:36,419|INFO|Nanny asking worker to close. Reason: nanny-close\n",
      "2024-12-16 21:17:36,419|INFO|Closing Nanny at 'tcp://127.0.0.1:60216'. Reason: nanny-close\n",
      "2024-12-16 21:17:36,420|INFO|Nanny asking worker to close. Reason: nanny-close\n",
      "2024-12-16 21:17:36,421|INFO|Closing Nanny at 'tcp://127.0.0.1:60218'. Reason: nanny-close\n",
      "2024-12-16 21:17:36,422|INFO|Nanny asking worker to close. Reason: nanny-close\n",
      "2024-12-16 21:17:36,422|INFO|Closing Nanny at 'tcp://127.0.0.1:60220'. Reason: nanny-close\n",
      "2024-12-16 21:17:36,423|INFO|Nanny asking worker to close. Reason: nanny-close\n",
      "2024-12-16 21:17:36,423|INFO|Closing Nanny at 'tcp://127.0.0.1:60222'. Reason: nanny-close\n",
      "2024-12-16 21:17:36,424|INFO|Nanny asking worker to close. Reason: nanny-close\n",
      "2024-12-16 21:17:36,425|INFO|Closing Nanny at 'tcp://127.0.0.1:60224'. Reason: nanny-close\n",
      "2024-12-16 21:17:36,425|INFO|Nanny asking worker to close. Reason: nanny-close\n",
      "2024-12-16 21:17:36,426|INFO|Closing Nanny at 'tcp://127.0.0.1:60226'. Reason: nanny-close\n",
      "2024-12-16 21:17:36,427|INFO|Nanny asking worker to close. Reason: nanny-close\n",
      "2024-12-16 21:17:36,427|INFO|Closing Nanny at 'tcp://127.0.0.1:60228'. Reason: nanny-close\n",
      "2024-12-16 21:17:36,428|INFO|Nanny asking worker to close. Reason: nanny-close\n",
      "2024-12-16 21:17:36,429|INFO|Closing Nanny at 'tcp://127.0.0.1:60230'. Reason: nanny-close\n",
      "2024-12-16 21:17:36,429|INFO|Nanny asking worker to close. Reason: nanny-close\n",
      "2024-12-16 21:17:36,430|INFO|Closing Nanny at 'tcp://127.0.0.1:60232'. Reason: nanny-close\n",
      "2024-12-16 21:17:36,430|INFO|Nanny asking worker to close. Reason: nanny-close\n",
      "2024-12-16 21:17:37,160|INFO|Nanny at 'tcp://127.0.0.1:60222' closed.\n",
      "2024-12-16 21:17:37,185|INFO|Nanny at 'tcp://127.0.0.1:60226' closed.\n",
      "2024-12-16 21:17:37,186|INFO|Nanny at 'tcp://127.0.0.1:60208' closed.\n",
      "2024-12-16 21:17:37,187|INFO|Nanny at 'tcp://127.0.0.1:60206' closed.\n",
      "2024-12-16 21:17:37,188|INFO|Nanny at 'tcp://127.0.0.1:60218' closed.\n",
      "2024-12-16 21:17:37,189|INFO|Nanny at 'tcp://127.0.0.1:60202' closed.\n",
      "2024-12-16 21:17:37,191|INFO|Nanny at 'tcp://127.0.0.1:60224' closed.\n",
      "2024-12-16 21:17:37,200|INFO|Nanny at 'tcp://127.0.0.1:60214' closed.\n",
      "2024-12-16 21:17:37,205|INFO|Nanny at 'tcp://127.0.0.1:60216' closed.\n",
      "2024-12-16 21:17:37,206|INFO|Nanny at 'tcp://127.0.0.1:60228' closed.\n",
      "2024-12-16 21:17:37,209|INFO|Nanny at 'tcp://127.0.0.1:60204' closed.\n",
      "2024-12-16 21:17:37,211|INFO|Nanny at 'tcp://127.0.0.1:60210' closed.\n",
      "2024-12-16 21:17:37,212|INFO|Nanny at 'tcp://127.0.0.1:60212' closed.\n",
      "2024-12-16 21:17:37,214|INFO|Nanny at 'tcp://127.0.0.1:60232' closed.\n",
      "2024-12-16 21:17:37,218|INFO|Nanny at 'tcp://127.0.0.1:60220' closed.\n",
      "2024-12-16 21:17:37,223|INFO|Nanny at 'tcp://127.0.0.1:60230' closed.\n"
     ]
    },
    {
     "name": "stdout",
     "output_type": "stream",
     "text": [
      "computation time 85.5 s\n"
     ]
    }
   ],
   "source": [
    "from dask.distributed import Client\n",
    "\n",
    "import joblib\n",
    "\n",
    "client = Client(cluster.scheduler_address)\n",
    "\n",
    "with joblib.parallel_config(\"dask\"):\n",
    "    fp = MAPFingerprint(n_jobs=-1)\n",
    "\n",
    "    start = time()\n",
    "    fps_dask = fp.transform(pcba_molecules)\n",
    "    end = time()\n",
    "\n",
    "client.close()\n",
    "cluster.close()\n",
    "\n",
    "print(f\"computation time {end-start:.3} s\")"
   ],
   "metadata": {
    "collapsed": false,
    "ExecuteTime": {
     "end_time": "2024-12-16T20:17:37.232874400Z",
     "start_time": "2024-12-16T20:16:10.893298600Z"
    }
   },
   "id": "cd7b1993375ea67f"
  },
  {
   "cell_type": "markdown",
   "source": [
    "The time for local computation is very similar. We expect to see an improvement for cloud cluster"
   ],
   "metadata": {
    "collapsed": false
   },
   "id": "8a2d35fef25c068c"
  }
 ],
 "metadata": {
  "kernelspec": {
   "display_name": "Python 3",
   "language": "python",
   "name": "python3"
  },
  "language_info": {
   "codemirror_mode": {
    "name": "ipython",
    "version": 2
   },
   "file_extension": ".py",
   "mimetype": "text/x-python",
   "name": "python",
   "nbconvert_exporter": "python",
   "pygments_lexer": "ipython2",
   "version": "2.7.6"
  }
 },
 "nbformat": 4,
 "nbformat_minor": 5
}
