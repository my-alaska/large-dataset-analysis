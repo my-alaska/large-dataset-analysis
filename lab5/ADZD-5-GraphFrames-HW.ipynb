{
 "cells": [
  {
   "cell_type": "code",
   "execution_count": 1,
   "metadata": {
    "ExecuteTime": {
     "end_time": "2023-11-23T22:24:47.380028Z",
     "start_time": "2023-11-23T22:24:45.489084Z"
    },
    "collapsed": false,
    "jupyter": {
     "outputs_hidden": false
    }
   },
   "outputs": [
    {
     "name": "stdout",
     "output_type": "stream",
     "text": [
      "Welcome to\n",
      "      ____              __\n",
      "     / __/__  ___ _____/ /__\n",
      "    _\\ \\/ _ \\/ _ `/ __/  '_/\n",
      "   /__ / .__/\\_,_/_/ /_/\\_\\   version 3.5.0\n",
      "      /_/\n",
      "\n",
      "Using Python version 3.11.6 (main, Oct  3 2023 10:40:35)\n",
      "Spark context Web UI available at http://c23eaf907387:4040\n",
      "Spark context available as 'sc' (master = local[*], app id = local-1732878644575).\n",
      "SparkSession available as 'spark'.\n"
     ]
    }
   ],
   "source": [
    "from pyspark.sql import DataFrame\n",
    "from graphframes import graphframe\n",
    "from pyspark.shell import spark"
   ]
  },
  {
   "cell_type": "code",
   "execution_count": 2,
   "metadata": {},
   "outputs": [
    {
     "data": {
      "text/html": [
       "\n",
       "        <div>\n",
       "            <p><b>SparkContext</b></p>\n",
       "\n",
       "            <p><a href=\"http://c23eaf907387:4040\">Spark UI</a></p>\n",
       "\n",
       "            <dl>\n",
       "              <dt>Version</dt>\n",
       "                <dd><code>v3.5.0</code></dd>\n",
       "              <dt>Master</dt>\n",
       "                <dd><code>local[*]</code></dd>\n",
       "              <dt>AppName</dt>\n",
       "                <dd><code>pyspark-shell</code></dd>\n",
       "            </dl>\n",
       "        </div>\n",
       "        "
      ],
      "text/plain": [
       "<SparkContext master=local[*] appName=pyspark-shell>"
      ]
     },
     "execution_count": 2,
     "metadata": {},
     "output_type": "execute_result"
    }
   ],
   "source": [
    "sc = spark.sparkContext\n",
    "sc"
   ]
  },
  {
   "cell_type": "markdown",
   "metadata": {
    "collapsed": false,
    "jupyter": {
     "outputs_hidden": false
    }
   },
   "source": [
    "### 1\n",
    "Wczytać graf Facebooka, krawędzie z pliku musae_facebook_edges.csv, atrybuty page_name oraz page_type z pliku musae_facebook_target.csv.  Policzyć liczbę krawędzi i wierzchołków. (1 p.)"
   ]
  },
  {
   "cell_type": "code",
   "execution_count": 3,
   "metadata": {},
   "outputs": [],
   "source": [
    "from graphframes import *\n",
    "\n",
    "vertices_df = spark.read.option(\"header\", True).csv(\n",
    "    \"facebook_large/musae_facebook_target.csv\"\n",
    ")\n",
    "\n",
    "edges_df = spark.read.option(\"header\", True).csv(\n",
    "    \"facebook_large/musae_facebook_edges.csv\"\n",
    ")\n",
    "edges_df = edges_df.withColumnRenamed(\"id_1\", \"src\").withColumnRenamed(\"id_2\", \"dst\")\n",
    "\n",
    "g = GraphFrame(vertices_df, edges_df)"
   ]
  },
  {
   "cell_type": "code",
   "execution_count": 4,
   "metadata": {},
   "outputs": [
    {
     "data": {
      "text/plain": [
       "22470"
      ]
     },
     "execution_count": 4,
     "metadata": {},
     "output_type": "execute_result"
    }
   ],
   "source": [
    "g.vertices.count()"
   ]
  },
  {
   "cell_type": "code",
   "execution_count": 5,
   "metadata": {},
   "outputs": [
    {
     "data": {
      "text/plain": [
       "171002"
      ]
     },
     "execution_count": 5,
     "metadata": {},
     "output_type": "execute_result"
    }
   ],
   "source": [
    "g.edges.count()"
   ]
  },
  {
   "cell_type": "markdown",
   "metadata": {
    "collapsed": false,
    "jupyter": {
     "outputs_hidden": false
    }
   },
   "source": [
    "### 2\n",
    "Sprawdzić czy graf jest spójny. Czy dwa podgrafy utworzone dla typów strony governmental organizations oraz television shows też są spójne? (1 p.)"
   ]
  },
  {
   "cell_type": "code",
   "execution_count": 6,
   "metadata": {
    "collapsed": false,
    "jupyter": {
     "outputs_hidden": false
    }
   },
   "outputs": [
    {
     "name": "stdout",
     "output_type": "stream",
     "text": [
      "+---------+-----+\n",
      "|component|count|\n",
      "+---------+-----+\n",
      "|        0|22470|\n",
      "+---------+-----+\n",
      "\n"
     ]
    }
   ],
   "source": [
    "sc.setCheckpointDir(\"/tmp/graphframes-example-connected-components\")\n",
    "g.connectedComponents().groupby(\"component\").count().show()"
   ]
  },
  {
   "cell_type": "markdown",
   "metadata": {
    "collapsed": false,
    "jupyter": {
     "outputs_hidden": false
    }
   },
   "source": [
    "### 3\n",
    "Spośród 1000 stron o najwyższym PageRank znaleźć 50 takich (wypisać page_name i page_type), które mają najmniej połączeń oraz 50 o największej liczbie połączeń. Który typ strony był dominujący w każdej z tych kategorii? Narysować wykres zależności PageRank od liczby krawędzi dla wierzchołków (scatter plot) (2 p.)"
   ]
  },
  {
   "cell_type": "code",
   "execution_count": 7,
   "metadata": {
    "collapsed": false,
    "jupyter": {
     "outputs_hidden": false
    }
   },
   "outputs": [],
   "source": [
    "results = g.pageRank(maxIter=10)\n",
    "top_1k_pagerank = results.vertices.orderBy(\"pageRank\", ascending=False).limit(1000)"
   ]
  },
  {
   "cell_type": "code",
   "execution_count": 8,
   "metadata": {},
   "outputs": [
    {
     "name": "stdout",
     "output_type": "stream",
     "text": [
      "+-----+---------------+--------------------+----------+------------------+\n",
      "|   id|    facebook_id|           page_name| page_type|          pagerank|\n",
      "+-----+---------------+--------------------+----------+------------------+\n",
      "|21729|    63811549237|The Obama White H...|government|119.30838334728563|\n",
      "|22208|     9229303148|U.S. Department o...|government| 68.13255237491354|\n",
      "|21781|101690176567548|           Microsoft|   company|56.407039625973916|\n",
      "+-----+---------------+--------------------+----------+------------------+\n",
      "only showing top 3 rows\n",
      "\n"
     ]
    }
   ],
   "source": [
    "top_1k_pagerank.show(3)"
   ]
  },
  {
   "cell_type": "code",
   "execution_count": 9,
   "metadata": {},
   "outputs": [
    {
     "data": {
      "text/plain": [
       "171002"
      ]
     },
     "execution_count": 9,
     "metadata": {},
     "output_type": "execute_result"
    }
   ],
   "source": [
    "results.edges.count()"
   ]
  },
  {
   "cell_type": "code",
   "execution_count": 10,
   "metadata": {},
   "outputs": [],
   "source": [
    "from pyspark.sql.functions import col\n",
    "from functools import reduce\n",
    "from operator import add\n",
    "\n",
    "id_only = top_1k_pagerank.select(\"id\")\n",
    "\n",
    "edges_in = (\n",
    "    g.edges.join(id_only, g.edges.dst == id_only.id, \"inner\")\n",
    "    .select(\"dst\")\n",
    "    .groupBy(\"dst\")\n",
    "    .count()\n",
    "    .withColumnRenamed(\"count\", \"in_deg\")\n",
    "    .withColumnRenamed(\"dst\", \"id1\")\n",
    ")\n",
    "\n",
    "edges_out = (\n",
    "    g.edges.join(id_only, g.edges.src == id_only.id, \"inner\")\n",
    "    .select(\"src\")\n",
    "    .groupBy(\"src\")\n",
    "    .count()\n",
    "    .withColumnRenamed(\"count\", \"out_deg\")\n",
    "    .withColumnRenamed(\"src\", \"id2\")\n",
    ")\n",
    "\n",
    "combined = (\n",
    "    edges_out.join(edges_in, edges_out.id2 == edges_in.id1, \"inner\")\n",
    "    .withColumnRenamed(\"id1\", \"v_id\")\n",
    "    .withColumn(\"total_edges\", reduce(add, [col(\"in_deg\"), col(\"out_deg\")]))\n",
    "    .select(\"v_id\", \"total_edges\")\n",
    ")"
   ]
  },
  {
   "cell_type": "code",
   "execution_count": 11,
   "metadata": {},
   "outputs": [],
   "source": [
    "top_1k = (\n",
    "    top_1k_pagerank.join(combined, combined.v_id == top_1k_pagerank.id)\n",
    "    .select(\"id\", \"page_name\", \"page_type\", \"pagerank\", \"total_edges\")\n",
    "    .orderBy(\"total_edges\", ascending=False)\n",
    ")"
   ]
  },
  {
   "cell_type": "code",
   "execution_count": 12,
   "metadata": {},
   "outputs": [],
   "source": [
    "top_1k_most_edges = top_1k.limit(50)\n",
    "\n",
    "top_1k_least_edges = top_1k.orderBy(\"total_edges\").limit(50)"
   ]
  },
  {
   "cell_type": "code",
   "execution_count": 13,
   "metadata": {},
   "outputs": [
    {
     "name": "stdout",
     "output_type": "stream",
     "text": [
      "+----------+-----+\n",
      "| page_type|count|\n",
      "+----------+-----+\n",
      "|government|   38|\n",
      "|politician|   10|\n",
      "|   company|    2|\n",
      "+----------+-----+\n",
      "\n"
     ]
    }
   ],
   "source": [
    "top_1k_most_edges.groupby(\"page_type\").count().show()"
   ]
  },
  {
   "cell_type": "code",
   "execution_count": 14,
   "metadata": {},
   "outputs": [
    {
     "name": "stdout",
     "output_type": "stream",
     "text": [
      "+----------+-----+\n",
      "| page_type|count|\n",
      "+----------+-----+\n",
      "|   company|   30|\n",
      "|    tvshow|    5|\n",
      "|politician|    9|\n",
      "|government|    6|\n",
      "+----------+-----+\n",
      "\n"
     ]
    }
   ],
   "source": [
    "top_1k_least_edges.groupby(\"page_type\").count().show()"
   ]
  },
  {
   "cell_type": "code",
   "execution_count": 15,
   "metadata": {},
   "outputs": [
    {
     "data": {
      "text/plain": [
       "<Axes: xlabel='pagerank', ylabel='total_edges'>"
      ]
     },
     "execution_count": 15,
     "metadata": {},
     "output_type": "execute_result"
    },
    {
     "data": {
      "image/png": "[encoded data removed]",
      "text/plain": [
       "<Figure size 640x480 with 1 Axes>"
      ]
     },
     "metadata": {},
     "output_type": "display_data"
    }
   ],
   "source": [
    "top_1k.toPandas().plot.scatter(x=\"pagerank\", y=\"total_edges\", logx=True, logy=True)"
   ]
  },
  {
   "cell_type": "markdown",
   "metadata": {
    "collapsed": false,
    "jupyter": {
     "outputs_hidden": false
    }
   },
   "source": [
    "### 4\n",
    "Korzystając z Pregel API zaimplementować następujący algorytm. W pierwszym kroku wybrana strona publikuje post fake news. W kolejnym kroku ten post publikowany jest przez 1/4 losowo wybranych kontaktów tej strony. W dalszych krokach, dla każdej strony, która opublikowała już ten post, losowo wybrane 1/4 jej kontaktów publikuje go u siebie. Pokazać jak zmienia się liczba stron które opublikowały post w zależności od liczby kroków. (2 p.)\n",
    "Opcjonalnie: Sprawdzić powyższą zależność dla współczynnika innego niż 1/4."
   ]
  },
  {
   "cell_type": "code",
   "execution_count": 16,
   "metadata": {},
   "outputs": [
    {
     "name": "stderr",
     "output_type": "stream",
     "text": [
      "100%|██████████| 20/20 [01:21<00:00,  4.05s/it]\n"
     ]
    },
    {
     "data": {
      "text/plain": [
       "<matplotlib.collections.PathCollection at 0x7fdca28bad50>"
      ]
     },
     "execution_count": 16,
     "metadata": {},
     "output_type": "execute_result"
    },
    {
     "data": {
      "image/png": "[encoded data removed]",
      "text/plain": [
       "<Figure size 640x480 with 1 Axes>"
      ]
     },
     "metadata": {},
     "output_type": "display_data"
    }
   ],
   "source": [
    "from tqdm import tqdm\n",
    "from pyspark.sql.functions import when, rand, coalesce, max\n",
    "from graphframes.lib import Pregel\n",
    "import matplotlib.pyplot as plt\n",
    "\n",
    "spark.sparkContext.setCheckpointDir('checkpoints3')\n",
    "\n",
    "g.vertices.where(col(\"id\")==\"21729\").collect()\n",
    "\n",
    "P = 0.25\n",
    "def reposted(seen) :\n",
    "    return ((seen > 0).cast(\"int\") * rand() > (1-P)).cast(\"int\")\n",
    "\n",
    "posted = []\n",
    "for iterations in tqdm(list(range(1, 21))):\n",
    "    count = 1\n",
    "    while count <= 1:\n",
    "        sim = (g.pregel \n",
    "        .setMaxIter(iterations) \n",
    "        .withVertexColumn('posted',\n",
    "                          when(col('id') == '21729', 1).otherwise(0),\n",
    "                          ((Pregel.msg() + col('posted')) > 0).cast(\"int\"))     \n",
    "        .sendMsgToSrc(Pregel.dst('posted')) \n",
    "\n",
    "               \n",
    "        .aggMsgs(reposted(max(Pregel.msg()))) \n",
    "        .run())\n",
    "\n",
    "        count = sim.filter(col('posted') == True).count()\n",
    "\n",
    "    posted.append(count)\n",
    "\n",
    "plt.scatter(x=list(range(1, 21)), y=posted)"
   ]
  },
  {
   "cell_type": "markdown",
   "metadata": {
    "collapsed": false,
    "jupyter": {
     "outputs_hidden": false
    }
   },
   "source": [
    "### 5\n",
    "Narysować wykres rozkładu stopnia wierzchołków w grafie w skali logarytmicznej. Można skorzystać z metody stat.approxQuantile. Czy sieć jest bezskalowa (scale-free)? https://barabasi.com/f/623.pdf  (2 p.)"
   ]
  },
  {
   "cell_type": "code",
   "execution_count": 17,
   "metadata": {
    "collapsed": false,
    "jupyter": {
     "outputs_hidden": false
    }
   },
   "outputs": [],
   "source": [
    "all_ids = g.vertices.select(\"id\")\n",
    "\n",
    "edges_in = (\n",
    "    g.edges.join(all_ids, g.edges.dst == all_ids.id, \"inner\")\n",
    "    .select(\"dst\")\n",
    "    .groupBy(\"dst\")\n",
    "    .count()\n",
    "    .withColumnRenamed(\"count\", \"in_deg\")\n",
    "    .withColumnRenamed(\"dst\", \"id1\")\n",
    ")\n",
    "\n",
    "edges_out = (\n",
    "    g.edges.join(all_ids, g.edges.src == all_ids.id, \"inner\")\n",
    "    .select(\"src\")\n",
    "    .groupBy(\"src\")\n",
    "    .count()\n",
    "    .withColumnRenamed(\"count\", \"out_deg\")\n",
    "    .withColumnRenamed(\"src\", \"id2\")\n",
    ")\n",
    "\n",
    "combined = (\n",
    "    edges_out.join(edges_in, edges_out.id2 == edges_in.id1, \"inner\")\n",
    "    .withColumn(\"total_deg\", reduce(add, [col(\"in_deg\"), col(\"out_deg\")]))\n",
    "    .select(\"id1\", \"in_deg\", \"out_deg\", \"total_deg\")\n",
    "    .withColumnRenamed(\"id1\", \"id\")\n",
    ")"
   ]
  },
  {
   "cell_type": "code",
   "execution_count": 18,
   "metadata": {},
   "outputs": [],
   "source": [
    "from pyspark.sql.functions import log\n",
    "\n",
    "combined = combined.select(\"total_deg\").groupBy(\"total_deg\").count()"
   ]
  },
  {
   "cell_type": "code",
   "execution_count": 19,
   "metadata": {},
   "outputs": [
    {
     "name": "stdout",
     "output_type": "stream",
     "text": [
      "+---------+-----+\n",
      "|total_deg|count|\n",
      "+---------+-----+\n",
      "|       26|  178|\n",
      "|       29|  136|\n",
      "|       65|   21|\n",
      "+---------+-----+\n",
      "only showing top 3 rows\n",
      "\n"
     ]
    }
   ],
   "source": [
    "combined.show(3)"
   ]
  },
  {
   "cell_type": "code",
   "execution_count": 20,
   "metadata": {},
   "outputs": [
    {
     "data": {
      "text/plain": [
       "<Axes: xlabel='total_deg', ylabel='count'>"
      ]
     },
     "execution_count": 20,
     "metadata": {},
     "output_type": "execute_result"
    },
    {
     "data": {
      "image/png": "[encoded data removed]",
      "text/plain": [
       "<Figure size 640x480 with 1 Axes>"
      ]
     },
     "metadata": {},
     "output_type": "display_data"
    }
   ],
   "source": [
    "combined.toPandas().plot.scatter(x=\"total_deg\", y=\"count\", logx=True, logy=True)"
   ]
  },
  {
   "cell_type": "markdown",
   "metadata": {},
   "source": [
    "The points seem to be following a slightly curved line. We can't exactly say that it's scale-free but it's leaning towards it"
   ]
  },
  {
   "cell_type": "code",
   "execution_count": null,
   "metadata": {},
   "outputs": [],
   "source": []
  }
 ],
 "metadata": {
  "kernelspec": {
   "display_name": "Python 3 (ipykernel)",
   "language": "python",
   "name": "python3"
  },
  "language_info": {
   "codemirror_mode": {
    "name": "ipython",
    "version": 3
   },
   "file_extension": ".py",
   "mimetype": "text/x-python",
   "name": "python",
   "nbconvert_exporter": "python",
   "pygments_lexer": "ipython3",
   "version": "3.11.6"
  }
 },
 "nbformat": 4,
 "nbformat_minor": 4
}
