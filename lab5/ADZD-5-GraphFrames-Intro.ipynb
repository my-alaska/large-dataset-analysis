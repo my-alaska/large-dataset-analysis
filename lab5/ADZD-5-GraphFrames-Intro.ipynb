{
 "cells": [
  {
   "cell_type": "markdown",
   "metadata": {
    "application/vnd.databricks.v1+cell": {
     "cellMetadata": {},
     "inputWidgets": {},
     "nuid": "ad7d6666-e7cc-41f3-97a2-da60b235a9e0",
     "showTitle": false,
     "title": ""
    }
   },
   "source": [
    "# GraphFrames User Guide (Python)\n",
    "\n",
    "This notebook demonstrates examples from the [GraphFrames User Guide](https://graphframes.github.io/graphframes/docs/_site/user-guide.html).\n",
    "\n",
    "The GraphFrames package is available from [Spark Packages](http://spark-packages.org/package/graphframes/graphframes)."
   ]
  },
  {
   "cell_type": "code",
   "execution_count": 1,
   "metadata": {
    "application/vnd.databricks.v1+cell": {
     "cellMetadata": {
      "byteLimit": 2048000,
      "rowLimit": 10000
     },
     "inputWidgets": {},
     "nuid": "6ffcfa2f-98e3-4c2d-9467-1fae7326c887",
     "showTitle": false,
     "title": ""
    }
   },
   "outputs": [],
   "source": [
    "from functools import reduce\n",
    "from pyspark.sql.functions import col, lit, when\n",
    "from graphframes import *\n",
    "from pyspark.sql import SparkSession\n",
    "from spark.graphframes import\n",
    "\n",
    "# Create a SparkSession\n",
    "spark = SparkSession.builder.appName(\"example\").getOrCreate()"
   ]
  },
  {
   "cell_type": "code",
   "execution_count": 2,
   "metadata": {},
   "outputs": [],
   "source": [
    "sc = spark.sparkContext"
   ]
  },
  {
   "cell_type": "markdown",
   "metadata": {
    "application/vnd.databricks.v1+cell": {
     "cellMetadata": {},
     "inputWidgets": {},
     "nuid": "7c63a8eb-416b-4cb1-8f39-b87962c37231",
     "showTitle": false,
     "title": ""
    }
   },
   "source": [
    "## Creating GraphFrames\n",
    "\n",
    "Users can create GraphFrames from vertex and edge DataFrames.\n",
    "\n",
    "* Vertex DataFrame: A vertex DataFrame should contain a special column named \"id\" which specifies unique IDs for each vertex in the graph.\n",
    "* Edge DataFrame: An edge DataFrame should contain two special columns: \"src\" (source vertex ID of edge) and \"dst\" (destination vertex ID of edge).\n",
    "\n",
    "Both DataFrames can have arbitrary other columns. Those columns can represent vertex and edge attributes."
   ]
  },
  {
   "cell_type": "markdown",
   "metadata": {
    "application/vnd.databricks.v1+cell": {
     "cellMetadata": {},
     "inputWidgets": {},
     "nuid": "29991527-2082-439d-b4d8-d1030cc21e8c",
     "showTitle": false,
     "title": ""
    }
   },
   "source": [
    "Create the vertices first:"
   ]
  },
  {
   "cell_type": "code",
   "execution_count": 33,
   "metadata": {
    "application/vnd.databricks.v1+cell": {
     "cellMetadata": {
      "byteLimit": 2048000,
      "rowLimit": 10000
     },
     "inputWidgets": {},
     "nuid": "3f703048-4485-49f0-a2d1-55a8f9d8749f",
     "showTitle": false,
     "title": ""
    }
   },
   "outputs": [],
   "source": [
    "vertices = spark.createDataFrame(\n",
    "    [\n",
    "        (\"a\", \"Alice\", 34),\n",
    "        (\"b\", \"Bob\", 36),\n",
    "        (\"c\", \"Charlie\", 30),\n",
    "        (\"d\", \"David\", 29),\n",
    "        (\"e\", \"Esther\", 32),\n",
    "        (\"f\", \"Fanny\", 36),\n",
    "        (\"g\", \"Gabby\", 60),\n",
    "    ],\n",
    "    [\"id\", \"name\", \"age\"],\n",
    ")"
   ]
  },
  {
   "cell_type": "markdown",
   "metadata": {
    "application/vnd.databricks.v1+cell": {
     "cellMetadata": {},
     "inputWidgets": {},
     "nuid": "6761cc75-df4b-47dc-9a20-ec27c5ff5c33",
     "showTitle": false,
     "title": ""
    }
   },
   "source": [
    "And then some edges:"
   ]
  },
  {
   "cell_type": "code",
   "execution_count": 34,
   "metadata": {
    "application/vnd.databricks.v1+cell": {
     "cellMetadata": {
      "byteLimit": 2048000,
      "rowLimit": 10000
     },
     "inputWidgets": {},
     "nuid": "422f5fa5-0760-4fc6-8ae6-b2e15be8b72b",
     "showTitle": false,
     "title": ""
    }
   },
   "outputs": [],
   "source": [
    "edges = spark.createDataFrame(\n",
    "    [\n",
    "        (\"a\", \"b\", \"friend\"),\n",
    "        (\"b\", \"c\", \"follow\"),\n",
    "        (\"c\", \"b\", \"follow\"),\n",
    "        (\"f\", \"c\", \"follow\"),\n",
    "        (\"e\", \"f\", \"follow\"),\n",
    "        (\"e\", \"d\", \"friend\"),\n",
    "        (\"d\", \"a\", \"friend\"),\n",
    "        (\"a\", \"e\", \"friend\"),\n",
    "    ],\n",
    "    [\"src\", \"dst\", \"relationship\"],\n",
    ")"
   ]
  },
  {
   "cell_type": "markdown",
   "metadata": {
    "application/vnd.databricks.v1+cell": {
     "cellMetadata": {},
     "inputWidgets": {},
     "nuid": "8494a119-8dd3-4b8c-8914-3e7571efd9d7",
     "showTitle": false,
     "title": ""
    }
   },
   "source": [
    "Let's create a graph from these vertices and these edges:"
   ]
  },
  {
   "cell_type": "code",
   "execution_count": 35,
   "metadata": {
    "application/vnd.databricks.v1+cell": {
     "cellMetadata": {
      "byteLimit": 2048000,
      "rowLimit": 10000
     },
     "inputWidgets": {},
     "nuid": "6c3b3f91-def1-4aca-b61d-df7046989f50",
     "showTitle": false,
     "title": ""
    }
   },
   "outputs": [
    {
     "data": {
      "text/plain": [
       "GraphFrame(v:[id: string, name: string ... 1 more field], e:[src: string, dst: string ... 1 more field])"
      ]
     },
     "execution_count": 35,
     "metadata": {},
     "output_type": "execute_result"
    }
   ],
   "source": [
    "g = GraphFrame(vertices, edges)\n",
    "g"
   ]
  },
  {
   "cell_type": "code",
   "execution_count": 31,
   "metadata": {
    "application/vnd.databricks.v1+cell": {
     "cellMetadata": {
      "byteLimit": 2048000,
      "rowLimit": 10000
     },
     "inputWidgets": {},
     "nuid": "7a7fe822-f9f0-461c-b869-60aa7b8b1253",
     "showTitle": false,
     "title": ""
    }
   },
   "outputs": [
    {
     "data": {
      "text/plain": [
       "GraphFrame(v:[id: string, name: string ... 1 more field], e:[src: string, dst: string ... 1 more field])"
      ]
     },
     "metadata": {},
     "output_type": "display_data"
    }
   ],
   "source": [
    "# This example graph also comes with the GraphFrames package.\n",
    "from graphframes.examples import Graphs\n",
    "\n",
    "same_g = Graphs(spark).friends()\n",
    "display(same_g)"
   ]
  },
  {
   "cell_type": "markdown",
   "metadata": {
    "application/vnd.databricks.v1+cell": {
     "cellMetadata": {},
     "inputWidgets": {},
     "nuid": "01765b7f-c871-485c-ae7d-3526e699ba83",
     "showTitle": false,
     "title": ""
    }
   },
   "source": [
    "## Basic graph and DataFrame queries\n",
    "\n",
    "GraphFrames provide several simple graph queries, such as node degree.\n",
    "\n",
    "Also, since GraphFrames represent graphs as pairs of vertex and edge DataFrames, it is easy to make powerful queries directly on the vertex and edge DataFrames. Those DataFrames are made available as vertices and edges fields in the GraphFrame."
   ]
  },
  {
   "cell_type": "code",
   "execution_count": 7,
   "metadata": {
    "application/vnd.databricks.v1+cell": {
     "cellMetadata": {
      "byteLimit": 2048000,
      "rowLimit": 10000
     },
     "inputWidgets": {},
     "nuid": "2c870f49-f7c7-42ee-9431-8c5dff8f9c9c",
     "showTitle": false,
     "title": ""
    }
   },
   "outputs": [
    {
     "data": {
      "text/plain": [
       "7"
      ]
     },
     "execution_count": 7,
     "metadata": {},
     "output_type": "execute_result"
    }
   ],
   "source": [
    "g.vertices.count()"
   ]
  },
  {
   "cell_type": "code",
   "execution_count": 8,
   "metadata": {
    "application/vnd.databricks.v1+cell": {
     "cellMetadata": {
      "byteLimit": 2048000,
      "rowLimit": 10000
     },
     "inputWidgets": {},
     "nuid": "7d28017b-88a1-4406-abdf-f946e6d1c64b",
     "showTitle": false,
     "title": ""
    }
   },
   "outputs": [
    {
     "data": {
      "text/plain": [
       "8"
      ]
     },
     "execution_count": 8,
     "metadata": {},
     "output_type": "execute_result"
    }
   ],
   "source": [
    "g.edges.count()"
   ]
  },
  {
   "cell_type": "markdown",
   "metadata": {
    "application/vnd.databricks.v1+cell": {
     "cellMetadata": {},
     "inputWidgets": {},
     "nuid": "56eb058b-77eb-4494-b2d6-bcfc2d14737f",
     "showTitle": false,
     "title": ""
    }
   },
   "source": [
    "The incoming degree of the vertices:"
   ]
  },
  {
   "cell_type": "code",
   "execution_count": 9,
   "metadata": {
    "application/vnd.databricks.v1+cell": {
     "cellMetadata": {
      "byteLimit": 2048000,
      "rowLimit": 10000
     },
     "inputWidgets": {},
     "nuid": "6fb409ee-b794-4525-b591-8897fec60ad9",
     "showTitle": false,
     "title": ""
    }
   },
   "outputs": [
    {
     "data": {
      "text/plain": [
       "6"
      ]
     },
     "execution_count": 9,
     "metadata": {},
     "output_type": "execute_result"
    }
   ],
   "source": [
    "g.inDegrees.count()"
   ]
  },
  {
   "cell_type": "markdown",
   "metadata": {
    "application/vnd.databricks.v1+cell": {
     "cellMetadata": {},
     "inputWidgets": {},
     "nuid": "2e491005-ef24-4ee5-9790-d8c5afc55a81",
     "showTitle": false,
     "title": ""
    }
   },
   "source": [
    "The outgoing degree of the vertices:"
   ]
  },
  {
   "cell_type": "code",
   "execution_count": 10,
   "metadata": {
    "application/vnd.databricks.v1+cell": {
     "cellMetadata": {
      "byteLimit": 2048000,
      "rowLimit": 10000
     },
     "inputWidgets": {},
     "nuid": "6493b75a-a476-4f5e-9a4d-aeba43e16f83",
     "showTitle": false,
     "title": ""
    }
   },
   "outputs": [
    {
     "data": {
      "text/plain": [
       "6"
      ]
     },
     "execution_count": 10,
     "metadata": {},
     "output_type": "execute_result"
    }
   ],
   "source": [
    "g.outDegrees.count()"
   ]
  },
  {
   "cell_type": "markdown",
   "metadata": {
    "application/vnd.databricks.v1+cell": {
     "cellMetadata": {},
     "inputWidgets": {},
     "nuid": "c464119b-1d0f-4027-be76-a61c8f7e798c",
     "showTitle": false,
     "title": ""
    }
   },
   "source": [
    "The degree of the vertices:"
   ]
  },
  {
   "cell_type": "code",
   "execution_count": 11,
   "metadata": {
    "application/vnd.databricks.v1+cell": {
     "cellMetadata": {
      "byteLimit": 2048000,
      "rowLimit": 10000
     },
     "inputWidgets": {},
     "nuid": "9c449a2b-98db-4417-bc71-be4873ef2943",
     "showTitle": false,
     "title": ""
    }
   },
   "outputs": [
    {
     "data": {
      "text/plain": [
       "6"
      ]
     },
     "execution_count": 11,
     "metadata": {},
     "output_type": "execute_result"
    }
   ],
   "source": [
    "g.degrees.count()"
   ]
  },
  {
   "cell_type": "markdown",
   "metadata": {
    "application/vnd.databricks.v1+cell": {
     "cellMetadata": {},
     "inputWidgets": {},
     "nuid": "3f5dd22c-6c4e-4916-b1c4-9733f7861e5d",
     "showTitle": false,
     "title": ""
    }
   },
   "source": [
    "You can run queries directly on the vertices DataFrame. For example, we can find the age of the youngest person in the graph:"
   ]
  },
  {
   "cell_type": "code",
   "execution_count": 12,
   "metadata": {
    "application/vnd.databricks.v1+cell": {
     "cellMetadata": {
      "byteLimit": 2048000,
      "rowLimit": 10000
     },
     "inputWidgets": {},
     "nuid": "f788c7ed-75e4-4b24-8c77-f1feeaff162b",
     "showTitle": false,
     "title": ""
    }
   },
   "outputs": [
    {
     "data": {
      "text/plain": [
       "1"
      ]
     },
     "execution_count": 12,
     "metadata": {},
     "output_type": "execute_result"
    }
   ],
   "source": [
    "youngest = g.vertices.groupBy().min(\"age\")\n",
    "youngest.count()"
   ]
  },
  {
   "cell_type": "markdown",
   "metadata": {
    "application/vnd.databricks.v1+cell": {
     "cellMetadata": {},
     "inputWidgets": {},
     "nuid": "91c4a4cd-ec05-4752-8ccb-e92699f6d5ec",
     "showTitle": false,
     "title": ""
    }
   },
   "source": [
    "Likewise, you can run queries on the edges DataFrame. For example, let's count the number of 'follow' relationships in the graph:"
   ]
  },
  {
   "cell_type": "code",
   "execution_count": 13,
   "metadata": {
    "application/vnd.databricks.v1+cell": {
     "cellMetadata": {
      "byteLimit": 2048000,
      "rowLimit": 10000
     },
     "inputWidgets": {},
     "nuid": "d409d0d4-dfe1-425f-b02d-fe6545cac4c1",
     "showTitle": false,
     "title": ""
    }
   },
   "outputs": [
    {
     "name": "stdout",
     "output_type": "stream",
     "text": [
      "The number of follow edges is 4\n"
     ]
    }
   ],
   "source": [
    "numFollows = g.edges.filter(\"relationship = 'follow'\").count()\n",
    "print(\"The number of follow edges is\", numFollows)"
   ]
  },
  {
   "cell_type": "markdown",
   "metadata": {
    "application/vnd.databricks.v1+cell": {
     "cellMetadata": {},
     "inputWidgets": {},
     "nuid": "2b085802-8df0-4bdb-875e-1a227e01200e",
     "showTitle": false,
     "title": ""
    }
   },
   "source": [
    "## Motif finding\n",
    "\n",
    "Using motifs you can build more complex relationships involving edges and vertices. The following cell finds the pairs of vertices with edges in both directions between them. The result is a DataFrame, in which the column names are given by the motif keys.\n",
    "\n",
    "Check out the [GraphFrame User Guide](https://graphframes.github.io/graphframes/docs/_site/user-guide.html#motif-finding) for more details on the API."
   ]
  },
  {
   "cell_type": "code",
   "execution_count": 14,
   "metadata": {
    "application/vnd.databricks.v1+cell": {
     "cellMetadata": {
      "byteLimit": 2048000,
      "rowLimit": 10000
     },
     "inputWidgets": {},
     "nuid": "97106ee3-cae7-4203-9d71-67df2054db10",
     "showTitle": false,
     "title": ""
    }
   },
   "outputs": [
    {
     "data": {
      "text/plain": [
       "2"
      ]
     },
     "execution_count": 14,
     "metadata": {},
     "output_type": "execute_result"
    }
   ],
   "source": [
    "# Search for pairs of vertices with edges in both directions between them.\n",
    "motifs = g.find(\"(a)-[e]->(b); (b)-[e2]->(a)\")\n",
    "motifs.count()"
   ]
  },
  {
   "cell_type": "markdown",
   "metadata": {
    "application/vnd.databricks.v1+cell": {
     "cellMetadata": {},
     "inputWidgets": {},
     "nuid": "0e043e71-1096-4928-b15b-6b5f1f8fe6c2",
     "showTitle": false,
     "title": ""
    }
   },
   "source": [
    "Since the result is a DataFrame, more complex queries can be built on top of the motif. Let us find all the reciprocal relationships in which one person is older than 30:"
   ]
  },
  {
   "cell_type": "code",
   "execution_count": 15,
   "metadata": {
    "application/vnd.databricks.v1+cell": {
     "cellMetadata": {
      "byteLimit": 2048000,
      "rowLimit": 10000
     },
     "inputWidgets": {},
     "nuid": "f9fade27-09ff-4d28-a9df-2ef925f33f6f",
     "showTitle": false,
     "title": ""
    }
   },
   "outputs": [
    {
     "name": "stdout",
     "output_type": "stream",
     "text": [
      "+----------------+--------------+----------------+--------------+\n",
      "|               a|             e|               b|            e2|\n",
      "+----------------+--------------+----------------+--------------+\n",
      "|{c, Charlie, 30}|{c, b, follow}|    {b, Bob, 36}|{b, c, follow}|\n",
      "|    {b, Bob, 36}|{b, c, follow}|{c, Charlie, 30}|{c, b, follow}|\n",
      "+----------------+--------------+----------------+--------------+\n",
      "\n"
     ]
    }
   ],
   "source": [
    "filtered = motifs.filter(\"b.age > 30 or a.age > 30\")\n",
    "filtered.show()"
   ]
  },
  {
   "cell_type": "markdown",
   "metadata": {
    "application/vnd.databricks.v1+cell": {
     "cellMetadata": {},
     "inputWidgets": {},
     "nuid": "e71eed48-9434-4f5c-9107-6c39d6848d9c",
     "showTitle": false,
     "title": ""
    }
   },
   "source": [
    "#### Stateful queries\n",
    "\n",
    "Most motif queries are stateless and simple to express, as in the examples above. The next example demonstrates a more complex query that carries state along a path in the motif. Such queries can be expressed by combining GraphFrame motif finding with filters on the result where the filters use sequence operations to operate over DataFrame columns.\n",
    "\n",
    "For example, suppose you want to identify a chain of 4 vertices with some property defined by a sequence of functions. That is, among chains of 4 vertices `a->b->c->d`, identify the subset of chains matching this complex filter:\n",
    "\n",
    "* Initialize state on path.\n",
    "* Update state based on vertex a.\n",
    "* Update state based on vertex b.\n",
    "* Etc. for c and d.\n",
    "\n",
    "If final state matches some condition, then the filter accepts the chain.\n",
    "The below code snippets demonstrate this process, where we identify chains of 4 vertices such that at least 2 of the 3 edges are “friend” relationships. In this example, the state is the current count of “friend” edges; in general, it could be any DataFrame Column."
   ]
  },
  {
   "cell_type": "code",
   "execution_count": 16,
   "metadata": {
    "application/vnd.databricks.v1+cell": {
     "cellMetadata": {
      "byteLimit": 2048000,
      "rowLimit": 10000
     },
     "inputWidgets": {},
     "nuid": "3516afa8-12e5-4895-a1e1-60c5d4535325",
     "showTitle": false,
     "title": ""
    }
   },
   "outputs": [
    {
     "name": "stdout",
     "output_type": "stream",
     "text": [
      "+---------------+--------------+---------------+--------------+---------------+--------------+----------------+-----------+\n",
      "|              a|            ab|              b|            bc|              c|            cd|               d|num_friends|\n",
      "+---------------+--------------+---------------+--------------+---------------+--------------+----------------+-----------+\n",
      "| {a, Alice, 34}|{a, e, friend}|{e, Esther, 32}|{e, d, friend}| {d, David, 29}|{d, a, friend}|  {a, Alice, 34}|          3|\n",
      "|{e, Esther, 32}|{e, d, friend}| {d, David, 29}|{d, a, friend}| {a, Alice, 34}|{a, b, friend}|    {b, Bob, 36}|          3|\n",
      "| {d, David, 29}|{d, a, friend}| {a, Alice, 34}|{a, b, friend}|   {b, Bob, 36}|{b, c, follow}|{c, Charlie, 30}|          2|\n",
      "| {d, David, 29}|{d, a, friend}| {a, Alice, 34}|{a, e, friend}|{e, Esther, 32}|{e, d, friend}|  {d, David, 29}|          3|\n",
      "|{e, Esther, 32}|{e, d, friend}| {d, David, 29}|{d, a, friend}| {a, Alice, 34}|{a, e, friend}| {e, Esther, 32}|          3|\n",
      "| {d, David, 29}|{d, a, friend}| {a, Alice, 34}|{a, e, friend}|{e, Esther, 32}|{e, f, follow}|  {f, Fanny, 36}|          2|\n",
      "+---------------+--------------+---------------+--------------+---------------+--------------+----------------+-----------+\n",
      "\n"
     ]
    }
   ],
   "source": [
    "# Find chains of 4 vertices.\n",
    "chain4 = g.find(\"(a)-[ab]->(b); (b)-[bc]->(c); (c)-[cd]->(d)\")\n",
    "\n",
    "\n",
    "# Query on sequence, with state (cnt)\n",
    "#  (a) Define method for updating state given the next element of the motif.\n",
    "def cumFriends(cnt, edge):\n",
    "    relationship = col(edge)[\"relationship\"]\n",
    "    return when(relationship == \"friend\", cnt + 1).otherwise(cnt)\n",
    "\n",
    "\n",
    "#  (b) Use sequence operation to apply method to sequence of elements in motif.\n",
    "#   In this case, the elements are the 3 edges.\n",
    "edges = [\"ab\", \"bc\", \"cd\"]\n",
    "numFriends = reduce(cumFriends, edges, lit(0))\n",
    "\n",
    "chainWith2Friends2 = chain4.withColumn(\"num_friends\", numFriends).where(numFriends >= 2)\n",
    "chainWith2Friends2.show()"
   ]
  },
  {
   "cell_type": "markdown",
   "metadata": {
    "application/vnd.databricks.v1+cell": {
     "cellMetadata": {},
     "inputWidgets": {},
     "nuid": "abacf92e-4772-42b7-8c26-06fbf7fdee3c",
     "showTitle": false,
     "title": ""
    }
   },
   "source": [
    "## Subgraphs\n",
    "\n",
    "GraphFrames provides APIs for building subgraphs by filtering on edges and vertices. These filters can be composed together, for example the following subgraph only includes people who are more than 30 years old and have friends who are more than 30 years old."
   ]
  },
  {
   "cell_type": "code",
   "execution_count": 17,
   "metadata": {
    "application/vnd.databricks.v1+cell": {
     "cellMetadata": {
      "byteLimit": 2048000,
      "rowLimit": 10000
     },
     "inputWidgets": {},
     "nuid": "01ea3b1c-bac9-41a7-98ac-ab7694226e35",
     "showTitle": false,
     "title": ""
    }
   },
   "outputs": [],
   "source": [
    "g2 = (\n",
    "    g.filterEdges(\"relationship = 'friend'\")\n",
    "    .filterVertices(\"age > 30\")\n",
    "    .dropIsolatedVertices()\n",
    ")"
   ]
  },
  {
   "cell_type": "code",
   "execution_count": 18,
   "metadata": {
    "application/vnd.databricks.v1+cell": {
     "cellMetadata": {
      "byteLimit": 2048000,
      "rowLimit": 10000
     },
     "inputWidgets": {},
     "nuid": "babcc89a-e224-4de9-ab76-a7c4bda6b623",
     "showTitle": false,
     "title": ""
    }
   },
   "outputs": [
    {
     "name": "stdout",
     "output_type": "stream",
     "text": [
      "+---+------+---+\n",
      "| id|  name|age|\n",
      "+---+------+---+\n",
      "|  a| Alice| 34|\n",
      "|  b|   Bob| 36|\n",
      "|  e|Esther| 32|\n",
      "+---+------+---+\n",
      "\n"
     ]
    }
   ],
   "source": [
    "g2.vertices.show()"
   ]
  },
  {
   "cell_type": "code",
   "execution_count": 19,
   "metadata": {
    "application/vnd.databricks.v1+cell": {
     "cellMetadata": {
      "byteLimit": 2048000,
      "rowLimit": 10000
     },
     "inputWidgets": {},
     "nuid": "aa477a8d-7427-403b-9913-d6d40458a286",
     "showTitle": false,
     "title": ""
    }
   },
   "outputs": [
    {
     "name": "stdout",
     "output_type": "stream",
     "text": [
      "+---+---+------------+\n",
      "|src|dst|relationship|\n",
      "+---+---+------------+\n",
      "|  a|  b|      friend|\n",
      "|  a|  e|      friend|\n",
      "+---+---+------------+\n",
      "\n"
     ]
    }
   ],
   "source": [
    "g2.edges.show()"
   ]
  },
  {
   "cell_type": "markdown",
   "metadata": {
    "application/vnd.databricks.v1+cell": {
     "cellMetadata": {},
     "inputWidgets": {},
     "nuid": "c7f01332-b02c-4026-afff-adf5d5accff4",
     "showTitle": false,
     "title": ""
    }
   },
   "source": [
    "## Standard graph algorithms\n",
    "\n",
    "GraphFrames comes with a number of standard graph algorithms built in:\n",
    "* Breadth-first search (BFS)\n",
    "* Connected components\n",
    "* Strongly connected components\n",
    "* Label Propagation Algorithm (LPA)\n",
    "* PageRank (regular and personalized)\n",
    "* Shortest paths\n",
    "* Triangle count"
   ]
  },
  {
   "cell_type": "markdown",
   "metadata": {
    "application/vnd.databricks.v1+cell": {
     "cellMetadata": {},
     "inputWidgets": {},
     "nuid": "25422d35-b3ed-4f04-8ed6-22be98df34c1",
     "showTitle": false,
     "title": ""
    }
   },
   "source": [
    "### Breadth-first search (BFS)\n",
    "\n",
    "Search from \"Esther\" for users of age < 32."
   ]
  },
  {
   "cell_type": "code",
   "execution_count": 20,
   "metadata": {
    "application/vnd.databricks.v1+cell": {
     "cellMetadata": {
      "byteLimit": 2048000,
      "rowLimit": 10000
     },
     "inputWidgets": {},
     "nuid": "9aa6d584-7e00-4557-b248-fff53b531bfc",
     "showTitle": false,
     "title": ""
    }
   },
   "outputs": [
    {
     "name": "stdout",
     "output_type": "stream",
     "text": [
      "+---------------+--------------+--------------+\n",
      "|           from|            e0|            to|\n",
      "+---------------+--------------+--------------+\n",
      "|{e, Esther, 32}|{e, d, friend}|{d, David, 29}|\n",
      "+---------------+--------------+--------------+\n",
      "\n"
     ]
    }
   ],
   "source": [
    "paths = g.bfs(\"name = 'Esther'\", \"age < 32\")\n",
    "paths.show()"
   ]
  },
  {
   "cell_type": "markdown",
   "metadata": {
    "application/vnd.databricks.v1+cell": {
     "cellMetadata": {},
     "inputWidgets": {},
     "nuid": "b0507bf3-c024-420f-8680-d4eefb4d26f2",
     "showTitle": false,
     "title": ""
    }
   },
   "source": [
    "The search may also be limited by edge filters and maximum path lengths."
   ]
  },
  {
   "cell_type": "code",
   "execution_count": 21,
   "metadata": {
    "application/vnd.databricks.v1+cell": {
     "cellMetadata": {
      "byteLimit": 2048000,
      "rowLimit": 10000
     },
     "inputWidgets": {},
     "nuid": "ad2dc1a0-6ed3-4f84-9b3c-86167ec5d59d",
     "showTitle": false,
     "title": ""
    }
   },
   "outputs": [
    {
     "name": "stdout",
     "output_type": "stream",
     "text": [
      "+---------------+--------------+--------------+--------------+----------------+\n",
      "|           from|            e0|            v1|            e1|              to|\n",
      "+---------------+--------------+--------------+--------------+----------------+\n",
      "|{e, Esther, 32}|{e, f, follow}|{f, Fanny, 36}|{f, c, follow}|{c, Charlie, 30}|\n",
      "+---------------+--------------+--------------+--------------+----------------+\n",
      "\n"
     ]
    }
   ],
   "source": [
    "filteredPaths = g.bfs(\n",
    "    fromExpr=\"name = 'Esther'\",\n",
    "    toExpr=\"age < 32\",\n",
    "    edgeFilter=\"relationship != 'friend'\",\n",
    "    maxPathLength=3,\n",
    ")\n",
    "filteredPaths.show()"
   ]
  },
  {
   "cell_type": "markdown",
   "metadata": {
    "application/vnd.databricks.v1+cell": {
     "cellMetadata": {},
     "inputWidgets": {},
     "nuid": "f49f11bf-d434-422f-a3c8-0e4713954339",
     "showTitle": false,
     "title": ""
    }
   },
   "source": [
    "## Connected components\n",
    "\n",
    "Compute the connected component membership of each vertex and return a DataFrame with each vertex assigned a component ID. The GraphFrames connected components implementation can take advantage of checkpointing to improve performance."
   ]
  },
  {
   "cell_type": "code",
   "execution_count": 22,
   "metadata": {
    "application/vnd.databricks.v1+cell": {
     "cellMetadata": {},
     "inputWidgets": {},
     "nuid": "1c2b2cd1-02db-4ff1-8709-7a36e1cf99a0",
     "showTitle": false,
     "title": ""
    }
   },
   "outputs": [
    {
     "name": "stdout",
     "output_type": "stream",
     "text": [
      "+---+-------+---+---------+\n",
      "| id|   name|age|component|\n",
      "+---+-------+---+---------+\n",
      "|  a|  Alice| 34|        0|\n",
      "|  b|    Bob| 36|        0|\n",
      "|  c|Charlie| 30|        0|\n",
      "|  d|  David| 29|        0|\n",
      "|  e| Esther| 32|        0|\n",
      "|  f|  Fanny| 36|        0|\n",
      "|  g|  Gabby| 60|        6|\n",
      "+---+-------+---+---------+\n",
      "\n"
     ]
    }
   ],
   "source": [
    "sc.setCheckpointDir(\"/tmp/graphframes-example-connected-components\")\n",
    "result = g.connectedComponents()\n",
    "result.show()"
   ]
  },
  {
   "cell_type": "markdown",
   "metadata": {
    "application/vnd.databricks.v1+cell": {
     "cellMetadata": {},
     "inputWidgets": {},
     "nuid": "70b4b75b-ce97-44c6-9831-27841dc26944",
     "showTitle": false,
     "title": ""
    }
   },
   "source": [
    "## Strongly connected components\n",
    "\n",
    "Compute the strongly connected component (SCC) of each vertex and return a DataFrame with each vertex assigned to the SCC containing that vertex."
   ]
  },
  {
   "cell_type": "code",
   "execution_count": 23,
   "metadata": {
    "application/vnd.databricks.v1+cell": {
     "cellMetadata": {},
     "inputWidgets": {},
     "nuid": "6a863878-58b7-4cf7-a401-0bd4bd5f6097",
     "showTitle": false,
     "title": ""
    }
   },
   "outputs": [
    {
     "name": "stdout",
     "output_type": "stream",
     "text": [
      "+---+---------+\n",
      "| id|component|\n",
      "+---+---------+\n",
      "|  a|        0|\n",
      "|  b|        1|\n",
      "|  c|        1|\n",
      "|  d|        0|\n",
      "|  e|        0|\n",
      "|  f|        5|\n",
      "|  g|        6|\n",
      "+---+---------+\n",
      "\n"
     ]
    }
   ],
   "source": [
    "result = g.stronglyConnectedComponents(maxIter=10)\n",
    "result.select(\"id\", \"component\").show()"
   ]
  },
  {
   "cell_type": "markdown",
   "metadata": {
    "application/vnd.databricks.v1+cell": {
     "cellMetadata": {},
     "inputWidgets": {},
     "nuid": "5b48710a-1d6d-440a-b500-256c907b938e",
     "showTitle": false,
     "title": ""
    }
   },
   "source": [
    "## Label Propagation\n",
    "\n",
    "Run static Label Propagation Algorithm for detecting communities in networks.\n",
    "\n",
    "Each node in the network is initially assigned to its own community. At every superstep, nodes send their community affiliation to all neighbors and update their state to the most frequent community affiliation of incoming messages.\n",
    "\n",
    "LPA is a standard community detection algorithm for graphs. It is very inexpensive computationally, although (1) convergence is not guaranteed and (2) one can end up with trivial solutions (all nodes are identified into a single community)."
   ]
  },
  {
   "cell_type": "code",
   "execution_count": 24,
   "metadata": {
    "application/vnd.databricks.v1+cell": {
     "cellMetadata": {},
     "inputWidgets": {},
     "nuid": "4f513c2f-0e17-4f69-9840-7ab022d5713b",
     "showTitle": false,
     "title": ""
    }
   },
   "outputs": [
    {
     "name": "stdout",
     "output_type": "stream",
     "text": [
      "+---+-------+---+-----+\n",
      "| id|   name|age|label|\n",
      "+---+-------+---+-----+\n",
      "|  a|  Alice| 34|    2|\n",
      "|  b|    Bob| 36|    2|\n",
      "|  c|Charlie| 30|    1|\n",
      "|  d|  David| 29|    2|\n",
      "|  e| Esther| 32|    5|\n",
      "|  f|  Fanny| 36|    2|\n",
      "|  g|  Gabby| 60|    6|\n",
      "+---+-------+---+-----+\n",
      "\n"
     ]
    }
   ],
   "source": [
    "result = g.labelPropagation(maxIter=5)\n",
    "result.show()"
   ]
  },
  {
   "cell_type": "markdown",
   "metadata": {
    "application/vnd.databricks.v1+cell": {
     "cellMetadata": {},
     "inputWidgets": {},
     "nuid": "f70a41c4-9a76-4d7e-9dc1-a55c344cf62f",
     "showTitle": false,
     "title": ""
    }
   },
   "source": [
    "## PageRank\n",
    "\n",
    "Identify important vertices in a graph based on connections."
   ]
  },
  {
   "cell_type": "code",
   "execution_count": 25,
   "metadata": {
    "application/vnd.databricks.v1+cell": {
     "cellMetadata": {},
     "inputWidgets": {},
     "nuid": "b9aedee4-c064-44c2-95cc-1b9f6dc8048d",
     "showTitle": false,
     "title": ""
    }
   },
   "outputs": [
    {
     "name": "stdout",
     "output_type": "stream",
     "text": [
      "+---+-------+---+-------------------+\n",
      "| id|   name|age|           pagerank|\n",
      "+---+-------+---+-------------------+\n",
      "|  a|  Alice| 34|0.44910633706538744|\n",
      "|  b|    Bob| 36|  2.655507832863289|\n",
      "|  c|Charlie| 30| 2.6878300011606218|\n",
      "|  d|  David| 29| 0.3283606792049851|\n",
      "|  e| Esther| 32|0.37085233187676075|\n",
      "|  f|  Fanny| 36| 0.3283606792049851|\n",
      "|  g|  Gabby| 60| 0.1799821386239711|\n",
      "+---+-------+---+-------------------+\n",
      "\n"
     ]
    }
   ],
   "source": [
    "results = g.pageRank(resetProbability=0.15, tol=0.01)\n",
    "results.vertices.show()"
   ]
  },
  {
   "cell_type": "code",
   "execution_count": 26,
   "metadata": {
    "application/vnd.databricks.v1+cell": {
     "cellMetadata": {},
     "inputWidgets": {},
     "nuid": "d9f25ffe-7df0-49f4-96bb-5beb80f9a2b3",
     "showTitle": false,
     "title": ""
    }
   },
   "outputs": [
    {
     "name": "stdout",
     "output_type": "stream",
     "text": [
      "+---+---+------------+------+\n",
      "|src|dst|relationship|weight|\n",
      "+---+---+------------+------+\n",
      "|  a|  b|      friend|   0.5|\n",
      "|  a|  e|      friend|   0.5|\n",
      "|  b|  c|      follow|   1.0|\n",
      "|  c|  b|      follow|   1.0|\n",
      "|  d|  a|      friend|   1.0|\n",
      "|  e|  d|      friend|   0.5|\n",
      "|  e|  f|      follow|   0.5|\n",
      "|  f|  c|      follow|   1.0|\n",
      "+---+---+------------+------+\n",
      "\n"
     ]
    }
   ],
   "source": [
    "results.edges.show()"
   ]
  },
  {
   "cell_type": "code",
   "execution_count": 27,
   "metadata": {
    "application/vnd.databricks.v1+cell": {
     "cellMetadata": {},
     "inputWidgets": {},
     "nuid": "9590d370-86e5-4677-9f94-15ca39090ab1",
     "showTitle": false,
     "title": ""
    }
   },
   "outputs": [
    {
     "data": {
      "text/plain": [
       "GraphFrame(v:[id: string, name: string ... 2 more fields], e:[src: string, dst: string ... 2 more fields])"
      ]
     },
     "execution_count": 27,
     "metadata": {},
     "output_type": "execute_result"
    }
   ],
   "source": [
    "# Run PageRank for a fixed number of iterations.\n",
    "g.pageRank(resetProbability=0.15, maxIter=10)"
   ]
  },
  {
   "cell_type": "code",
   "execution_count": 28,
   "metadata": {
    "application/vnd.databricks.v1+cell": {
     "cellMetadata": {},
     "inputWidgets": {},
     "nuid": "f7d8f095-6c0a-43d1-95de-969b06ada4a0",
     "showTitle": false,
     "title": ""
    }
   },
   "outputs": [
    {
     "data": {
      "text/plain": [
       "GraphFrame(v:[id: string, name: string ... 2 more fields], e:[src: string, dst: string ... 2 more fields])"
      ]
     },
     "execution_count": 28,
     "metadata": {},
     "output_type": "execute_result"
    }
   ],
   "source": [
    "# Run PageRank personalized for vertex \"a\"\n",
    "g.pageRank(resetProbability=0.15, maxIter=10, sourceId=\"a\")"
   ]
  },
  {
   "cell_type": "markdown",
   "metadata": {
    "application/vnd.databricks.v1+cell": {
     "cellMetadata": {},
     "inputWidgets": {},
     "nuid": "c90172a5-c7dd-4b18-ac19-d54fb99b9e43",
     "showTitle": false,
     "title": ""
    }
   },
   "source": [
    "## Shortest paths\n",
    "\n",
    "Computes shortest paths to the given set of landmark vertices, where landmarks are specified by vertex ID."
   ]
  },
  {
   "cell_type": "code",
   "execution_count": 29,
   "metadata": {
    "application/vnd.databricks.v1+cell": {
     "cellMetadata": {},
     "inputWidgets": {},
     "nuid": "d4721538-9f67-4522-8204-49e7467748d4",
     "showTitle": false,
     "title": ""
    }
   },
   "outputs": [
    {
     "name": "stdout",
     "output_type": "stream",
     "text": [
      "+---+-------+---+----------------+\n",
      "| id|   name|age|       distances|\n",
      "+---+-------+---+----------------+\n",
      "|  a|  Alice| 34|{d -> 2, a -> 0}|\n",
      "|  b|    Bob| 36|              {}|\n",
      "|  c|Charlie| 30|              {}|\n",
      "|  d|  David| 29|{d -> 0, a -> 1}|\n",
      "|  e| Esther| 32|{d -> 1, a -> 2}|\n",
      "|  f|  Fanny| 36|              {}|\n",
      "|  g|  Gabby| 60|              {}|\n",
      "+---+-------+---+----------------+\n",
      "\n"
     ]
    }
   ],
   "source": [
    "results = g.shortestPaths(landmarks=[\"a\", \"d\"])\n",
    "results.show()"
   ]
  },
  {
   "cell_type": "markdown",
   "metadata": {
    "application/vnd.databricks.v1+cell": {
     "cellMetadata": {},
     "inputWidgets": {},
     "nuid": "2d6d6fe6-8824-4a13-903b-c48404ec9d57",
     "showTitle": false,
     "title": ""
    }
   },
   "source": [
    "### Triangle count\n",
    "\n",
    "Computes the number of triangles passing through each vertex."
   ]
  },
  {
   "cell_type": "code",
   "execution_count": 30,
   "metadata": {
    "application/vnd.databricks.v1+cell": {
     "cellMetadata": {},
     "inputWidgets": {},
     "nuid": "81f0c7de-fc89-44ab-9e58-53e72bf2d231",
     "showTitle": false,
     "title": ""
    }
   },
   "outputs": [
    {
     "name": "stdout",
     "output_type": "stream",
     "text": [
      "+-----+---+-------+---+\n",
      "|count| id|   name|age|\n",
      "+-----+---+-------+---+\n",
      "|    1|  a|  Alice| 34|\n",
      "|    0|  b|    Bob| 36|\n",
      "|    0|  c|Charlie| 30|\n",
      "|    1|  d|  David| 29|\n",
      "|    1|  e| Esther| 32|\n",
      "|    0|  f|  Fanny| 36|\n",
      "|    0|  g|  Gabby| 60|\n",
      "+-----+---+-------+---+\n",
      "\n"
     ]
    }
   ],
   "source": [
    "results = g.triangleCount()\n",
    "results.show()"
   ]
  }
 ],
 "metadata": {
  "application/vnd.databricks.v1+notebook": {
   "dashboards": [],
   "language": "python",
   "notebookMetadata": {
    "pythonIndentUnit": 2
   },
   "notebookName": "graphframes-user-guide-py",
   "widgets": {}
  },
  "kernelspec": {
   "display_name": "Python 3 (ipykernel)",
   "language": "python",
   "name": "python3"
  },
  "language_info": {
   "codemirror_mode": {
    "name": "ipython",
    "version": 3
   },
   "file_extension": ".py",
   "mimetype": "text/x-python",
   "name": "python",
   "nbconvert_exporter": "python",
   "pygments_lexer": "ipython3",
   "version": "3.11.6"
  }
 },
 "nbformat": 4,
 "nbformat_minor": 4
}
